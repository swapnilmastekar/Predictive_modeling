{
 "cells": [
  {
   "cell_type": "code",
   "execution_count": 198,
   "metadata": {},
   "outputs": [],
   "source": [
    "import numpy as np\n",
    "import pandas as pd\n",
    "import matplotlib.pyplot as plt\n",
    "import seaborn as sns\n",
    "from sklearn.model_selection import train_test_split, GridSearchCV\n",
    "from sklearn.linear_model import LogisticRegression\n",
    "from sklearn.feature_selection import RFE\n",
    "from sklearn.metrics import classification_report, accuracy_score\n",
    "from sklearn.ensemble import RandomForestClassifier"
   ]
  },
  {
   "cell_type": "markdown",
   "metadata": {},
   "source": [
    "## Importing & exploring the dataset"
   ]
  },
  {
   "cell_type": "code",
   "execution_count": 10,
   "metadata": {},
   "outputs": [],
   "source": [
    "train = pd.read_csv('data/train.csv')"
   ]
  },
  {
   "cell_type": "code",
   "execution_count": 11,
   "metadata": {},
   "outputs": [
    {
     "name": "stdout",
     "output_type": "stream",
     "text": [
      "<class 'pandas.core.frame.DataFrame'>\n",
      "RangeIndex: 233154 entries, 0 to 233153\n",
      "Data columns (total 41 columns):\n",
      "UniqueID                               233154 non-null int64\n",
      "disbursed_amount                       233154 non-null int64\n",
      "asset_cost                             233154 non-null int64\n",
      "ltv                                    233154 non-null float64\n",
      "branch_id                              233154 non-null int64\n",
      "supplier_id                            233154 non-null int64\n",
      "manufacturer_id                        233154 non-null int64\n",
      "Current_pincode_ID                     233154 non-null int64\n",
      "Date.of.Birth                          233154 non-null object\n",
      "Employment.Type                        225493 non-null object\n",
      "DisbursalDate                          233154 non-null object\n",
      "State_ID                               233154 non-null int64\n",
      "Employee_code_ID                       233154 non-null int64\n",
      "MobileNo_Avl_Flag                      233154 non-null int64\n",
      "Aadhar_flag                            233154 non-null int64\n",
      "PAN_flag                               233154 non-null int64\n",
      "VoterID_flag                           233154 non-null int64\n",
      "Driving_flag                           233154 non-null int64\n",
      "Passport_flag                          233154 non-null int64\n",
      "PERFORM_CNS.SCORE                      233154 non-null int64\n",
      "PERFORM_CNS.SCORE.DESCRIPTION          233154 non-null object\n",
      "PRI.NO.OF.ACCTS                        233154 non-null int64\n",
      "PRI.ACTIVE.ACCTS                       233154 non-null int64\n",
      "PRI.OVERDUE.ACCTS                      233154 non-null int64\n",
      "PRI.CURRENT.BALANCE                    233154 non-null int64\n",
      "PRI.SANCTIONED.AMOUNT                  233154 non-null int64\n",
      "PRI.DISBURSED.AMOUNT                   233154 non-null int64\n",
      "SEC.NO.OF.ACCTS                        233154 non-null int64\n",
      "SEC.ACTIVE.ACCTS                       233154 non-null int64\n",
      "SEC.OVERDUE.ACCTS                      233154 non-null int64\n",
      "SEC.CURRENT.BALANCE                    233154 non-null int64\n",
      "SEC.SANCTIONED.AMOUNT                  233154 non-null int64\n",
      "SEC.DISBURSED.AMOUNT                   233154 non-null int64\n",
      "PRIMARY.INSTAL.AMT                     233154 non-null int64\n",
      "SEC.INSTAL.AMT                         233154 non-null int64\n",
      "NEW.ACCTS.IN.LAST.SIX.MONTHS           233154 non-null int64\n",
      "DELINQUENT.ACCTS.IN.LAST.SIX.MONTHS    233154 non-null int64\n",
      "AVERAGE.ACCT.AGE                       233154 non-null object\n",
      "CREDIT.HISTORY.LENGTH                  233154 non-null object\n",
      "NO.OF_INQUIRIES                        233154 non-null int64\n",
      "loan_default                           233154 non-null int64\n",
      "dtypes: float64(1), int64(34), object(6)\n",
      "memory usage: 72.9+ MB\n"
     ]
    }
   ],
   "source": [
    "# Checking data type for each columns\n",
    "\n",
    "train.info()"
   ]
  },
  {
   "cell_type": "code",
   "execution_count": 12,
   "metadata": {},
   "outputs": [
    {
     "data": {
      "text/plain": [
       "UniqueID                                  0\n",
       "disbursed_amount                          0\n",
       "asset_cost                                0\n",
       "ltv                                       0\n",
       "branch_id                                 0\n",
       "supplier_id                               0\n",
       "manufacturer_id                           0\n",
       "Current_pincode_ID                        0\n",
       "Date.of.Birth                             0\n",
       "Employment.Type                        7661\n",
       "DisbursalDate                             0\n",
       "State_ID                                  0\n",
       "Employee_code_ID                          0\n",
       "MobileNo_Avl_Flag                         0\n",
       "Aadhar_flag                               0\n",
       "PAN_flag                                  0\n",
       "VoterID_flag                              0\n",
       "Driving_flag                              0\n",
       "Passport_flag                             0\n",
       "PERFORM_CNS.SCORE                         0\n",
       "PERFORM_CNS.SCORE.DESCRIPTION             0\n",
       "PRI.NO.OF.ACCTS                           0\n",
       "PRI.ACTIVE.ACCTS                          0\n",
       "PRI.OVERDUE.ACCTS                         0\n",
       "PRI.CURRENT.BALANCE                       0\n",
       "PRI.SANCTIONED.AMOUNT                     0\n",
       "PRI.DISBURSED.AMOUNT                      0\n",
       "SEC.NO.OF.ACCTS                           0\n",
       "SEC.ACTIVE.ACCTS                          0\n",
       "SEC.OVERDUE.ACCTS                         0\n",
       "SEC.CURRENT.BALANCE                       0\n",
       "SEC.SANCTIONED.AMOUNT                     0\n",
       "SEC.DISBURSED.AMOUNT                      0\n",
       "PRIMARY.INSTAL.AMT                        0\n",
       "SEC.INSTAL.AMT                            0\n",
       "NEW.ACCTS.IN.LAST.SIX.MONTHS              0\n",
       "DELINQUENT.ACCTS.IN.LAST.SIX.MONTHS       0\n",
       "AVERAGE.ACCT.AGE                          0\n",
       "CREDIT.HISTORY.LENGTH                     0\n",
       "NO.OF_INQUIRIES                           0\n",
       "loan_default                              0\n",
       "dtype: int64"
      ]
     },
     "execution_count": 12,
     "metadata": {},
     "output_type": "execute_result"
    }
   ],
   "source": [
    "# Checking for null values\n",
    "\n",
    "train.isnull().sum()"
   ]
  },
  {
   "cell_type": "code",
   "execution_count": 14,
   "metadata": {},
   "outputs": [
    {
     "data": {
      "text/plain": [
       "UniqueID                               233154\n",
       "disbursed_amount                        24565\n",
       "asset_cost                              46252\n",
       "ltv                                      6579\n",
       "branch_id                                  82\n",
       "supplier_id                              2953\n",
       "manufacturer_id                            11\n",
       "Current_pincode_ID                       6698\n",
       "Date.of.Birth                           15433\n",
       "Employment.Type                             2\n",
       "DisbursalDate                              84\n",
       "State_ID                                   22\n",
       "Employee_code_ID                         3270\n",
       "MobileNo_Avl_Flag                           1\n",
       "Aadhar_flag                                 2\n",
       "PAN_flag                                    2\n",
       "VoterID_flag                                2\n",
       "Driving_flag                                2\n",
       "Passport_flag                               2\n",
       "PERFORM_CNS.SCORE                         573\n",
       "PERFORM_CNS.SCORE.DESCRIPTION              20\n",
       "PRI.NO.OF.ACCTS                           108\n",
       "PRI.ACTIVE.ACCTS                           40\n",
       "PRI.OVERDUE.ACCTS                          22\n",
       "PRI.CURRENT.BALANCE                     71341\n",
       "PRI.SANCTIONED.AMOUNT                   44390\n",
       "PRI.DISBURSED.AMOUNT                    47909\n",
       "SEC.NO.OF.ACCTS                            37\n",
       "SEC.ACTIVE.ACCTS                           23\n",
       "SEC.OVERDUE.ACCTS                           9\n",
       "SEC.CURRENT.BALANCE                      3246\n",
       "SEC.SANCTIONED.AMOUNT                    2223\n",
       "SEC.DISBURSED.AMOUNT                     2553\n",
       "PRIMARY.INSTAL.AMT                      28067\n",
       "SEC.INSTAL.AMT                           1918\n",
       "NEW.ACCTS.IN.LAST.SIX.MONTHS               26\n",
       "DELINQUENT.ACCTS.IN.LAST.SIX.MONTHS        14\n",
       "AVERAGE.ACCT.AGE                          192\n",
       "CREDIT.HISTORY.LENGTH                     294\n",
       "NO.OF_INQUIRIES                            25\n",
       "loan_default                                2\n",
       "dtype: int64"
      ]
     },
     "execution_count": 14,
     "metadata": {},
     "output_type": "execute_result"
    }
   ],
   "source": [
    "# Check unique values for each column\n",
    "\n",
    "train.nunique()"
   ]
  },
  {
   "cell_type": "code",
   "execution_count": 19,
   "metadata": {},
   "outputs": [],
   "source": [
    "# Getting unique values as %\n",
    "\n",
    "col_uniq_pct = pd.DataFrame(train.nunique()/len(train)).reset_index()\n",
    "col_uniq_pct.columns = ['column', 'unique_pct']"
   ]
  },
  {
   "cell_type": "code",
   "execution_count": 20,
   "metadata": {},
   "outputs": [
    {
     "data": {
      "text/html": [
       "<div>\n",
       "<style scoped>\n",
       "    .dataframe tbody tr th:only-of-type {\n",
       "        vertical-align: middle;\n",
       "    }\n",
       "\n",
       "    .dataframe tbody tr th {\n",
       "        vertical-align: top;\n",
       "    }\n",
       "\n",
       "    .dataframe thead th {\n",
       "        text-align: right;\n",
       "    }\n",
       "</style>\n",
       "<table border=\"1\" class=\"dataframe\">\n",
       "  <thead>\n",
       "    <tr style=\"text-align: right;\">\n",
       "      <th></th>\n",
       "      <th>column</th>\n",
       "      <th>unique_pct</th>\n",
       "    </tr>\n",
       "  </thead>\n",
       "  <tbody>\n",
       "    <tr>\n",
       "      <th>0</th>\n",
       "      <td>UniqueID</td>\n",
       "      <td>1.000000</td>\n",
       "    </tr>\n",
       "    <tr>\n",
       "      <th>1</th>\n",
       "      <td>disbursed_amount</td>\n",
       "      <td>0.105360</td>\n",
       "    </tr>\n",
       "    <tr>\n",
       "      <th>2</th>\n",
       "      <td>asset_cost</td>\n",
       "      <td>0.198375</td>\n",
       "    </tr>\n",
       "    <tr>\n",
       "      <th>3</th>\n",
       "      <td>ltv</td>\n",
       "      <td>0.028217</td>\n",
       "    </tr>\n",
       "    <tr>\n",
       "      <th>4</th>\n",
       "      <td>branch_id</td>\n",
       "      <td>0.000352</td>\n",
       "    </tr>\n",
       "    <tr>\n",
       "      <th>5</th>\n",
       "      <td>supplier_id</td>\n",
       "      <td>0.012665</td>\n",
       "    </tr>\n",
       "    <tr>\n",
       "      <th>6</th>\n",
       "      <td>manufacturer_id</td>\n",
       "      <td>0.000047</td>\n",
       "    </tr>\n",
       "    <tr>\n",
       "      <th>7</th>\n",
       "      <td>Current_pincode_ID</td>\n",
       "      <td>0.028728</td>\n",
       "    </tr>\n",
       "    <tr>\n",
       "      <th>8</th>\n",
       "      <td>Date.of.Birth</td>\n",
       "      <td>0.066192</td>\n",
       "    </tr>\n",
       "    <tr>\n",
       "      <th>9</th>\n",
       "      <td>Employment.Type</td>\n",
       "      <td>0.000009</td>\n",
       "    </tr>\n",
       "    <tr>\n",
       "      <th>10</th>\n",
       "      <td>DisbursalDate</td>\n",
       "      <td>0.000360</td>\n",
       "    </tr>\n",
       "    <tr>\n",
       "      <th>11</th>\n",
       "      <td>State_ID</td>\n",
       "      <td>0.000094</td>\n",
       "    </tr>\n",
       "    <tr>\n",
       "      <th>12</th>\n",
       "      <td>Employee_code_ID</td>\n",
       "      <td>0.014025</td>\n",
       "    </tr>\n",
       "    <tr>\n",
       "      <th>13</th>\n",
       "      <td>MobileNo_Avl_Flag</td>\n",
       "      <td>0.000004</td>\n",
       "    </tr>\n",
       "    <tr>\n",
       "      <th>14</th>\n",
       "      <td>Aadhar_flag</td>\n",
       "      <td>0.000009</td>\n",
       "    </tr>\n",
       "    <tr>\n",
       "      <th>15</th>\n",
       "      <td>PAN_flag</td>\n",
       "      <td>0.000009</td>\n",
       "    </tr>\n",
       "    <tr>\n",
       "      <th>16</th>\n",
       "      <td>VoterID_flag</td>\n",
       "      <td>0.000009</td>\n",
       "    </tr>\n",
       "    <tr>\n",
       "      <th>17</th>\n",
       "      <td>Driving_flag</td>\n",
       "      <td>0.000009</td>\n",
       "    </tr>\n",
       "    <tr>\n",
       "      <th>18</th>\n",
       "      <td>Passport_flag</td>\n",
       "      <td>0.000009</td>\n",
       "    </tr>\n",
       "    <tr>\n",
       "      <th>19</th>\n",
       "      <td>PERFORM_CNS.SCORE</td>\n",
       "      <td>0.002458</td>\n",
       "    </tr>\n",
       "    <tr>\n",
       "      <th>20</th>\n",
       "      <td>PERFORM_CNS.SCORE.DESCRIPTION</td>\n",
       "      <td>0.000086</td>\n",
       "    </tr>\n",
       "    <tr>\n",
       "      <th>21</th>\n",
       "      <td>PRI.NO.OF.ACCTS</td>\n",
       "      <td>0.000463</td>\n",
       "    </tr>\n",
       "    <tr>\n",
       "      <th>22</th>\n",
       "      <td>PRI.ACTIVE.ACCTS</td>\n",
       "      <td>0.000172</td>\n",
       "    </tr>\n",
       "    <tr>\n",
       "      <th>23</th>\n",
       "      <td>PRI.OVERDUE.ACCTS</td>\n",
       "      <td>0.000094</td>\n",
       "    </tr>\n",
       "    <tr>\n",
       "      <th>24</th>\n",
       "      <td>PRI.CURRENT.BALANCE</td>\n",
       "      <td>0.305982</td>\n",
       "    </tr>\n",
       "    <tr>\n",
       "      <th>25</th>\n",
       "      <td>PRI.SANCTIONED.AMOUNT</td>\n",
       "      <td>0.190389</td>\n",
       "    </tr>\n",
       "    <tr>\n",
       "      <th>26</th>\n",
       "      <td>PRI.DISBURSED.AMOUNT</td>\n",
       "      <td>0.205482</td>\n",
       "    </tr>\n",
       "    <tr>\n",
       "      <th>27</th>\n",
       "      <td>SEC.NO.OF.ACCTS</td>\n",
       "      <td>0.000159</td>\n",
       "    </tr>\n",
       "    <tr>\n",
       "      <th>28</th>\n",
       "      <td>SEC.ACTIVE.ACCTS</td>\n",
       "      <td>0.000099</td>\n",
       "    </tr>\n",
       "    <tr>\n",
       "      <th>29</th>\n",
       "      <td>SEC.OVERDUE.ACCTS</td>\n",
       "      <td>0.000039</td>\n",
       "    </tr>\n",
       "    <tr>\n",
       "      <th>30</th>\n",
       "      <td>SEC.CURRENT.BALANCE</td>\n",
       "      <td>0.013922</td>\n",
       "    </tr>\n",
       "    <tr>\n",
       "      <th>31</th>\n",
       "      <td>SEC.SANCTIONED.AMOUNT</td>\n",
       "      <td>0.009534</td>\n",
       "    </tr>\n",
       "    <tr>\n",
       "      <th>32</th>\n",
       "      <td>SEC.DISBURSED.AMOUNT</td>\n",
       "      <td>0.010950</td>\n",
       "    </tr>\n",
       "    <tr>\n",
       "      <th>33</th>\n",
       "      <td>PRIMARY.INSTAL.AMT</td>\n",
       "      <td>0.120380</td>\n",
       "    </tr>\n",
       "    <tr>\n",
       "      <th>34</th>\n",
       "      <td>SEC.INSTAL.AMT</td>\n",
       "      <td>0.008226</td>\n",
       "    </tr>\n",
       "    <tr>\n",
       "      <th>35</th>\n",
       "      <td>NEW.ACCTS.IN.LAST.SIX.MONTHS</td>\n",
       "      <td>0.000112</td>\n",
       "    </tr>\n",
       "    <tr>\n",
       "      <th>36</th>\n",
       "      <td>DELINQUENT.ACCTS.IN.LAST.SIX.MONTHS</td>\n",
       "      <td>0.000060</td>\n",
       "    </tr>\n",
       "    <tr>\n",
       "      <th>37</th>\n",
       "      <td>AVERAGE.ACCT.AGE</td>\n",
       "      <td>0.000823</td>\n",
       "    </tr>\n",
       "    <tr>\n",
       "      <th>38</th>\n",
       "      <td>CREDIT.HISTORY.LENGTH</td>\n",
       "      <td>0.001261</td>\n",
       "    </tr>\n",
       "    <tr>\n",
       "      <th>39</th>\n",
       "      <td>NO.OF_INQUIRIES</td>\n",
       "      <td>0.000107</td>\n",
       "    </tr>\n",
       "    <tr>\n",
       "      <th>40</th>\n",
       "      <td>loan_default</td>\n",
       "      <td>0.000009</td>\n",
       "    </tr>\n",
       "  </tbody>\n",
       "</table>\n",
       "</div>"
      ],
      "text/plain": [
       "                                 column  unique_pct\n",
       "0                              UniqueID    1.000000\n",
       "1                      disbursed_amount    0.105360\n",
       "2                            asset_cost    0.198375\n",
       "3                                   ltv    0.028217\n",
       "4                             branch_id    0.000352\n",
       "5                           supplier_id    0.012665\n",
       "6                       manufacturer_id    0.000047\n",
       "7                    Current_pincode_ID    0.028728\n",
       "8                         Date.of.Birth    0.066192\n",
       "9                       Employment.Type    0.000009\n",
       "10                        DisbursalDate    0.000360\n",
       "11                             State_ID    0.000094\n",
       "12                     Employee_code_ID    0.014025\n",
       "13                    MobileNo_Avl_Flag    0.000004\n",
       "14                          Aadhar_flag    0.000009\n",
       "15                             PAN_flag    0.000009\n",
       "16                         VoterID_flag    0.000009\n",
       "17                         Driving_flag    0.000009\n",
       "18                        Passport_flag    0.000009\n",
       "19                    PERFORM_CNS.SCORE    0.002458\n",
       "20        PERFORM_CNS.SCORE.DESCRIPTION    0.000086\n",
       "21                      PRI.NO.OF.ACCTS    0.000463\n",
       "22                     PRI.ACTIVE.ACCTS    0.000172\n",
       "23                    PRI.OVERDUE.ACCTS    0.000094\n",
       "24                  PRI.CURRENT.BALANCE    0.305982\n",
       "25                PRI.SANCTIONED.AMOUNT    0.190389\n",
       "26                 PRI.DISBURSED.AMOUNT    0.205482\n",
       "27                      SEC.NO.OF.ACCTS    0.000159\n",
       "28                     SEC.ACTIVE.ACCTS    0.000099\n",
       "29                    SEC.OVERDUE.ACCTS    0.000039\n",
       "30                  SEC.CURRENT.BALANCE    0.013922\n",
       "31                SEC.SANCTIONED.AMOUNT    0.009534\n",
       "32                 SEC.DISBURSED.AMOUNT    0.010950\n",
       "33                   PRIMARY.INSTAL.AMT    0.120380\n",
       "34                       SEC.INSTAL.AMT    0.008226\n",
       "35         NEW.ACCTS.IN.LAST.SIX.MONTHS    0.000112\n",
       "36  DELINQUENT.ACCTS.IN.LAST.SIX.MONTHS    0.000060\n",
       "37                     AVERAGE.ACCT.AGE    0.000823\n",
       "38                CREDIT.HISTORY.LENGTH    0.001261\n",
       "39                      NO.OF_INQUIRIES    0.000107\n",
       "40                         loan_default    0.000009"
      ]
     },
     "execution_count": 20,
     "metadata": {},
     "output_type": "execute_result"
    }
   ],
   "source": [
    "col_uniq_pct"
   ]
  },
  {
   "cell_type": "code",
   "execution_count": 16,
   "metadata": {},
   "outputs": [
    {
     "data": {
      "text/plain": [
       "0     0yrs 0mon\n",
       "1    1yrs 11mon\n",
       "2     0yrs 0mon\n",
       "3     1yrs 3mon\n",
       "4     0yrs 0mon\n",
       "Name: CREDIT.HISTORY.LENGTH, dtype: object"
      ]
     },
     "execution_count": 16,
     "metadata": {},
     "output_type": "execute_result"
    }
   ],
   "source": [
    "# Exploring credit history length column to identify the reason for getting dtype 'object'\n",
    "\n",
    "train['CREDIT.HISTORY.LENGTH'].head()"
   ]
  },
  {
   "cell_type": "code",
   "execution_count": 21,
   "metadata": {},
   "outputs": [
    {
     "data": {
      "text/plain": [
       "0    182543\n",
       "1     50611\n",
       "Name: loan_default, dtype: int64"
      ]
     },
     "execution_count": 21,
     "metadata": {},
     "output_type": "execute_result"
    }
   ],
   "source": [
    "# Checking for data imbalance\n",
    "\n",
    "train['loan_default'].value_counts()"
   ]
  },
  {
   "cell_type": "code",
   "execution_count": 22,
   "metadata": {},
   "outputs": [
    {
     "data": {
      "text/plain": [
       "0    0.782929\n",
       "1    0.217071\n",
       "Name: loan_default, dtype: float64"
      ]
     },
     "execution_count": 22,
     "metadata": {},
     "output_type": "execute_result"
    }
   ],
   "source": [
    "# Checking imbalance in %\n",
    "\n",
    "train['loan_default'].value_counts()/train['loan_default'].value_counts().sum()"
   ]
  },
  {
   "cell_type": "markdown",
   "metadata": {},
   "source": [
    "## Data pre-processing"
   ]
  },
  {
   "cell_type": "markdown",
   "metadata": {},
   "source": [
    "1. FIll the null values in employment type with 'Unspecified'\n",
    "2. Identify columns that are categorical in nature but numeric by dtype & convert them to 'object'\n",
    "3. Identify columns that are numeric in nature but categorical by dtype & convert them to 'int' / 'float'\n",
    "4. Remove columns that has only 1 unique value or all values are unique\n",
    "5. Calculate age using disbursal date and DOB and delete disbursal date and DOB columns\n",
    "6. Remove redundant columns"
   ]
  },
  {
   "cell_type": "code",
   "execution_count": 23,
   "metadata": {},
   "outputs": [],
   "source": [
    "# 1. FIll the null values in employment type with 'Unspecified'\n",
    "\n",
    "train['Employment.Type'].fillna('Unspecified', inplace=True)"
   ]
  },
  {
   "cell_type": "code",
   "execution_count": 26,
   "metadata": {},
   "outputs": [
    {
     "name": "stdout",
     "output_type": "stream",
     "text": [
      "0\n",
      "------------------------------\n",
      "Self employed    127635\n",
      "Salaried          97858\n",
      "Unspecified        7661\n",
      "Name: Employment.Type, dtype: int64\n"
     ]
    }
   ],
   "source": [
    "# Verify the null imputation\n",
    "\n",
    "print(train['Employment.Type'].isnull().sum())\n",
    "print('-' * 30)\n",
    "print(train['Employment.Type'].value_counts())"
   ]
  },
  {
   "cell_type": "code",
   "execution_count": 27,
   "metadata": {},
   "outputs": [
    {
     "data": {
      "text/html": [
       "<div>\n",
       "<style scoped>\n",
       "    .dataframe tbody tr th:only-of-type {\n",
       "        vertical-align: middle;\n",
       "    }\n",
       "\n",
       "    .dataframe tbody tr th {\n",
       "        vertical-align: top;\n",
       "    }\n",
       "\n",
       "    .dataframe thead th {\n",
       "        text-align: right;\n",
       "    }\n",
       "</style>\n",
       "<table border=\"1\" class=\"dataframe\">\n",
       "  <thead>\n",
       "    <tr style=\"text-align: right;\">\n",
       "      <th></th>\n",
       "      <th>column</th>\n",
       "      <th>unique_pct</th>\n",
       "    </tr>\n",
       "  </thead>\n",
       "  <tbody>\n",
       "    <tr>\n",
       "      <th>3</th>\n",
       "      <td>ltv</td>\n",
       "      <td>0.028217</td>\n",
       "    </tr>\n",
       "    <tr>\n",
       "      <th>4</th>\n",
       "      <td>branch_id</td>\n",
       "      <td>0.000352</td>\n",
       "    </tr>\n",
       "    <tr>\n",
       "      <th>5</th>\n",
       "      <td>supplier_id</td>\n",
       "      <td>0.012665</td>\n",
       "    </tr>\n",
       "    <tr>\n",
       "      <th>6</th>\n",
       "      <td>manufacturer_id</td>\n",
       "      <td>0.000047</td>\n",
       "    </tr>\n",
       "    <tr>\n",
       "      <th>7</th>\n",
       "      <td>Current_pincode_ID</td>\n",
       "      <td>0.028728</td>\n",
       "    </tr>\n",
       "    <tr>\n",
       "      <th>8</th>\n",
       "      <td>Date.of.Birth</td>\n",
       "      <td>0.066192</td>\n",
       "    </tr>\n",
       "    <tr>\n",
       "      <th>9</th>\n",
       "      <td>Employment.Type</td>\n",
       "      <td>0.000009</td>\n",
       "    </tr>\n",
       "    <tr>\n",
       "      <th>10</th>\n",
       "      <td>DisbursalDate</td>\n",
       "      <td>0.000360</td>\n",
       "    </tr>\n",
       "    <tr>\n",
       "      <th>11</th>\n",
       "      <td>State_ID</td>\n",
       "      <td>0.000094</td>\n",
       "    </tr>\n",
       "    <tr>\n",
       "      <th>12</th>\n",
       "      <td>Employee_code_ID</td>\n",
       "      <td>0.014025</td>\n",
       "    </tr>\n",
       "    <tr>\n",
       "      <th>13</th>\n",
       "      <td>MobileNo_Avl_Flag</td>\n",
       "      <td>0.000004</td>\n",
       "    </tr>\n",
       "    <tr>\n",
       "      <th>14</th>\n",
       "      <td>Aadhar_flag</td>\n",
       "      <td>0.000009</td>\n",
       "    </tr>\n",
       "    <tr>\n",
       "      <th>15</th>\n",
       "      <td>PAN_flag</td>\n",
       "      <td>0.000009</td>\n",
       "    </tr>\n",
       "    <tr>\n",
       "      <th>16</th>\n",
       "      <td>VoterID_flag</td>\n",
       "      <td>0.000009</td>\n",
       "    </tr>\n",
       "    <tr>\n",
       "      <th>17</th>\n",
       "      <td>Driving_flag</td>\n",
       "      <td>0.000009</td>\n",
       "    </tr>\n",
       "    <tr>\n",
       "      <th>18</th>\n",
       "      <td>Passport_flag</td>\n",
       "      <td>0.000009</td>\n",
       "    </tr>\n",
       "    <tr>\n",
       "      <th>19</th>\n",
       "      <td>PERFORM_CNS.SCORE</td>\n",
       "      <td>0.002458</td>\n",
       "    </tr>\n",
       "    <tr>\n",
       "      <th>20</th>\n",
       "      <td>PERFORM_CNS.SCORE.DESCRIPTION</td>\n",
       "      <td>0.000086</td>\n",
       "    </tr>\n",
       "    <tr>\n",
       "      <th>21</th>\n",
       "      <td>PRI.NO.OF.ACCTS</td>\n",
       "      <td>0.000463</td>\n",
       "    </tr>\n",
       "    <tr>\n",
       "      <th>22</th>\n",
       "      <td>PRI.ACTIVE.ACCTS</td>\n",
       "      <td>0.000172</td>\n",
       "    </tr>\n",
       "    <tr>\n",
       "      <th>23</th>\n",
       "      <td>PRI.OVERDUE.ACCTS</td>\n",
       "      <td>0.000094</td>\n",
       "    </tr>\n",
       "    <tr>\n",
       "      <th>27</th>\n",
       "      <td>SEC.NO.OF.ACCTS</td>\n",
       "      <td>0.000159</td>\n",
       "    </tr>\n",
       "    <tr>\n",
       "      <th>28</th>\n",
       "      <td>SEC.ACTIVE.ACCTS</td>\n",
       "      <td>0.000099</td>\n",
       "    </tr>\n",
       "    <tr>\n",
       "      <th>29</th>\n",
       "      <td>SEC.OVERDUE.ACCTS</td>\n",
       "      <td>0.000039</td>\n",
       "    </tr>\n",
       "    <tr>\n",
       "      <th>30</th>\n",
       "      <td>SEC.CURRENT.BALANCE</td>\n",
       "      <td>0.013922</td>\n",
       "    </tr>\n",
       "    <tr>\n",
       "      <th>31</th>\n",
       "      <td>SEC.SANCTIONED.AMOUNT</td>\n",
       "      <td>0.009534</td>\n",
       "    </tr>\n",
       "    <tr>\n",
       "      <th>32</th>\n",
       "      <td>SEC.DISBURSED.AMOUNT</td>\n",
       "      <td>0.010950</td>\n",
       "    </tr>\n",
       "    <tr>\n",
       "      <th>34</th>\n",
       "      <td>SEC.INSTAL.AMT</td>\n",
       "      <td>0.008226</td>\n",
       "    </tr>\n",
       "    <tr>\n",
       "      <th>35</th>\n",
       "      <td>NEW.ACCTS.IN.LAST.SIX.MONTHS</td>\n",
       "      <td>0.000112</td>\n",
       "    </tr>\n",
       "    <tr>\n",
       "      <th>36</th>\n",
       "      <td>DELINQUENT.ACCTS.IN.LAST.SIX.MONTHS</td>\n",
       "      <td>0.000060</td>\n",
       "    </tr>\n",
       "    <tr>\n",
       "      <th>37</th>\n",
       "      <td>AVERAGE.ACCT.AGE</td>\n",
       "      <td>0.000823</td>\n",
       "    </tr>\n",
       "    <tr>\n",
       "      <th>38</th>\n",
       "      <td>CREDIT.HISTORY.LENGTH</td>\n",
       "      <td>0.001261</td>\n",
       "    </tr>\n",
       "    <tr>\n",
       "      <th>39</th>\n",
       "      <td>NO.OF_INQUIRIES</td>\n",
       "      <td>0.000107</td>\n",
       "    </tr>\n",
       "    <tr>\n",
       "      <th>40</th>\n",
       "      <td>loan_default</td>\n",
       "      <td>0.000009</td>\n",
       "    </tr>\n",
       "  </tbody>\n",
       "</table>\n",
       "</div>"
      ],
      "text/plain": [
       "                                 column  unique_pct\n",
       "3                                   ltv    0.028217\n",
       "4                             branch_id    0.000352\n",
       "5                           supplier_id    0.012665\n",
       "6                       manufacturer_id    0.000047\n",
       "7                    Current_pincode_ID    0.028728\n",
       "8                         Date.of.Birth    0.066192\n",
       "9                       Employment.Type    0.000009\n",
       "10                        DisbursalDate    0.000360\n",
       "11                             State_ID    0.000094\n",
       "12                     Employee_code_ID    0.014025\n",
       "13                    MobileNo_Avl_Flag    0.000004\n",
       "14                          Aadhar_flag    0.000009\n",
       "15                             PAN_flag    0.000009\n",
       "16                         VoterID_flag    0.000009\n",
       "17                         Driving_flag    0.000009\n",
       "18                        Passport_flag    0.000009\n",
       "19                    PERFORM_CNS.SCORE    0.002458\n",
       "20        PERFORM_CNS.SCORE.DESCRIPTION    0.000086\n",
       "21                      PRI.NO.OF.ACCTS    0.000463\n",
       "22                     PRI.ACTIVE.ACCTS    0.000172\n",
       "23                    PRI.OVERDUE.ACCTS    0.000094\n",
       "27                      SEC.NO.OF.ACCTS    0.000159\n",
       "28                     SEC.ACTIVE.ACCTS    0.000099\n",
       "29                    SEC.OVERDUE.ACCTS    0.000039\n",
       "30                  SEC.CURRENT.BALANCE    0.013922\n",
       "31                SEC.SANCTIONED.AMOUNT    0.009534\n",
       "32                 SEC.DISBURSED.AMOUNT    0.010950\n",
       "34                       SEC.INSTAL.AMT    0.008226\n",
       "35         NEW.ACCTS.IN.LAST.SIX.MONTHS    0.000112\n",
       "36  DELINQUENT.ACCTS.IN.LAST.SIX.MONTHS    0.000060\n",
       "37                     AVERAGE.ACCT.AGE    0.000823\n",
       "38                CREDIT.HISTORY.LENGTH    0.001261\n",
       "39                      NO.OF_INQUIRIES    0.000107\n",
       "40                         loan_default    0.000009"
      ]
     },
     "execution_count": 27,
     "metadata": {},
     "output_type": "execute_result"
    }
   ],
   "source": [
    "# 2. Identify columns that are categorical in nature but numeric by dtype & convert them to 'object'\n",
    "\n",
    "col_uniq_pct[col_uniq_pct['unique_pct'] < 0.1]"
   ]
  },
  {
   "cell_type": "markdown",
   "metadata": {},
   "source": [
    "Shortlisted = branch_id, supplier_id, manufacturer_id, Current_pincode_ID, State_ID, Employee_code_ID, MobileNo_Avl_Flag, Aadhar_flag, PAN_flag, Driving_flag, Passport_flag"
   ]
  },
  {
   "cell_type": "code",
   "execution_count": 28,
   "metadata": {},
   "outputs": [],
   "source": [
    "# 3. Identify columns that are numeric in nature but categorical by dtype & convert them to 'int' / 'float'\n",
    "\n",
    "# Create a function for conversion\n",
    "\n",
    "def cred_hist_asint(length):\n",
    "    \"\"\"\n",
    "    Converts X yrs Y mnths to int (months) \n",
    "    \"\"\"\n",
    "    return (int(length.split(' ')[0].replace('yrs', ''))*12) + int(length.split(' ')[1].replace('mon', ''))"
   ]
  },
  {
   "cell_type": "code",
   "execution_count": 29,
   "metadata": {},
   "outputs": [
    {
     "data": {
      "text/plain": [
       "23"
      ]
     },
     "execution_count": 29,
     "metadata": {},
     "output_type": "execute_result"
    }
   ],
   "source": [
    "# Test the function\n",
    "\n",
    "cred_hist_asint('1yrs 11mon')"
   ]
  },
  {
   "cell_type": "code",
   "execution_count": 31,
   "metadata": {},
   "outputs": [],
   "source": [
    "# Convert the column to int\n",
    "\n",
    "train['CREDIT.HISTORY.LENGTH'] = train['CREDIT.HISTORY.LENGTH'].map(lambda x: cred_hist_asint(x))"
   ]
  },
  {
   "cell_type": "code",
   "execution_count": 34,
   "metadata": {},
   "outputs": [
    {
     "data": {
      "text/plain": [
       "0     0\n",
       "1    23\n",
       "2     0\n",
       "3    15\n",
       "4     0\n",
       "Name: CREDIT.HISTORY.LENGTH, dtype: int64"
      ]
     },
     "execution_count": 34,
     "metadata": {},
     "output_type": "execute_result"
    }
   ],
   "source": [
    "# Verify the conversion\n",
    "\n",
    "train['CREDIT.HISTORY.LENGTH'].head()"
   ]
  },
  {
   "cell_type": "code",
   "execution_count": 167,
   "metadata": {},
   "outputs": [],
   "source": [
    "# Apply same treatment for average account age\n",
    "\n",
    "train['AVERAGE.ACCT.AGE'] = train['AVERAGE.ACCT.AGE'].map(lambda x: cred_hist_asint(x))"
   ]
  },
  {
   "cell_type": "code",
   "execution_count": 35,
   "metadata": {},
   "outputs": [],
   "source": [
    "# 4. Remove columns that has only 1 unique value or all values are unique\n",
    "\n",
    "#Retainng the UniqueID for now. Will drop it during Analysis\n",
    "\n",
    "train.drop('MobileNo_Avl_Flag', axis=1, inplace=True)"
   ]
  },
  {
   "cell_type": "code",
   "execution_count": 37,
   "metadata": {},
   "outputs": [
    {
     "data": {
      "text/html": [
       "<div>\n",
       "<style scoped>\n",
       "    .dataframe tbody tr th:only-of-type {\n",
       "        vertical-align: middle;\n",
       "    }\n",
       "\n",
       "    .dataframe tbody tr th {\n",
       "        vertical-align: top;\n",
       "    }\n",
       "\n",
       "    .dataframe thead th {\n",
       "        text-align: right;\n",
       "    }\n",
       "</style>\n",
       "<table border=\"1\" class=\"dataframe\">\n",
       "  <thead>\n",
       "    <tr style=\"text-align: right;\">\n",
       "      <th></th>\n",
       "      <th>Date.of.Birth</th>\n",
       "      <th>DisbursalDate</th>\n",
       "    </tr>\n",
       "  </thead>\n",
       "  <tbody>\n",
       "    <tr>\n",
       "      <th>0</th>\n",
       "      <td>01-01-84</td>\n",
       "      <td>03-08-18</td>\n",
       "    </tr>\n",
       "    <tr>\n",
       "      <th>1</th>\n",
       "      <td>31-07-85</td>\n",
       "      <td>26-09-18</td>\n",
       "    </tr>\n",
       "    <tr>\n",
       "      <th>2</th>\n",
       "      <td>24-08-85</td>\n",
       "      <td>01-08-18</td>\n",
       "    </tr>\n",
       "    <tr>\n",
       "      <th>3</th>\n",
       "      <td>30-12-93</td>\n",
       "      <td>26-10-18</td>\n",
       "    </tr>\n",
       "    <tr>\n",
       "      <th>4</th>\n",
       "      <td>09-12-77</td>\n",
       "      <td>26-09-18</td>\n",
       "    </tr>\n",
       "  </tbody>\n",
       "</table>\n",
       "</div>"
      ],
      "text/plain": [
       "  Date.of.Birth DisbursalDate\n",
       "0      01-01-84      03-08-18\n",
       "1      31-07-85      26-09-18\n",
       "2      24-08-85      01-08-18\n",
       "3      30-12-93      26-10-18\n",
       "4      09-12-77      26-09-18"
      ]
     },
     "execution_count": 37,
     "metadata": {},
     "output_type": "execute_result"
    }
   ],
   "source": [
    "# 5. Calculate age using disbursal date and DOB and delete disbursal date and DOB columns\n",
    "\n",
    "train[['Date.of.Birth', 'DisbursalDate']].head()"
   ]
  },
  {
   "cell_type": "code",
   "execution_count": 39,
   "metadata": {},
   "outputs": [
    {
     "data": {
      "text/plain": [
       "{'18'}"
      ]
     },
     "execution_count": 39,
     "metadata": {},
     "output_type": "execute_result"
    }
   ],
   "source": [
    "# Check unique year of disbursal\n",
    "\n",
    "set([i.split('-')[-1] for i in train['DisbursalDate'].values])"
   ]
  },
  {
   "cell_type": "code",
   "execution_count": 40,
   "metadata": {
    "scrolled": true
   },
   "outputs": [
    {
     "data": {
      "text/plain": [
       "{'00',\n",
       " '49',\n",
       " '54',\n",
       " '55',\n",
       " '56',\n",
       " '57',\n",
       " '58',\n",
       " '59',\n",
       " '60',\n",
       " '61',\n",
       " '62',\n",
       " '63',\n",
       " '64',\n",
       " '65',\n",
       " '66',\n",
       " '67',\n",
       " '68',\n",
       " '69',\n",
       " '70',\n",
       " '71',\n",
       " '72',\n",
       " '73',\n",
       " '74',\n",
       " '75',\n",
       " '76',\n",
       " '77',\n",
       " '78',\n",
       " '79',\n",
       " '80',\n",
       " '81',\n",
       " '82',\n",
       " '83',\n",
       " '84',\n",
       " '85',\n",
       " '86',\n",
       " '87',\n",
       " '88',\n",
       " '89',\n",
       " '90',\n",
       " '91',\n",
       " '92',\n",
       " '93',\n",
       " '94',\n",
       " '95',\n",
       " '96',\n",
       " '97',\n",
       " '98',\n",
       " '99'}"
      ]
     },
     "execution_count": 40,
     "metadata": {},
     "output_type": "execute_result"
    }
   ],
   "source": [
    "set([i.split('-')[-1] for i in train['Date.of.Birth'].values])"
   ]
  },
  {
   "cell_type": "code",
   "execution_count": 43,
   "metadata": {},
   "outputs": [],
   "source": [
    "# Create a function for age calculation\n",
    "\n",
    "def disb_age(dob):\n",
    "    \"\"\"\n",
    "    Calculates Age in years from DOB and Disbursal Date\n",
    "    \"\"\"\n",
    "    yob = dob.strip().split('-')[-1]\n",
    "    if yob != '00':\n",
    "        yob = int('19' + yob)\n",
    "    else:\n",
    "        yob = 2000\n",
    "        \n",
    "    return 2018 - yob"
   ]
  },
  {
   "cell_type": "code",
   "execution_count": 44,
   "metadata": {},
   "outputs": [
    {
     "data": {
      "text/plain": [
       "34"
      ]
     },
     "execution_count": 44,
     "metadata": {},
     "output_type": "execute_result"
    }
   ],
   "source": [
    "# Test the function\n",
    "\n",
    "disb_age(dob='01-01-84')"
   ]
  },
  {
   "cell_type": "code",
   "execution_count": 46,
   "metadata": {},
   "outputs": [],
   "source": [
    "# Crete an age column and detele DOB and Disbursal date\n",
    "\n",
    "train['disb_age'] = train['Date.of.Birth'].map(lambda x: disb_age(x))"
   ]
  },
  {
   "cell_type": "code",
   "execution_count": 47,
   "metadata": {},
   "outputs": [],
   "source": [
    "train.drop(['Date.of.Birth', 'DisbursalDate'], axis=1, inplace=True)"
   ]
  },
  {
   "cell_type": "code",
   "execution_count": 49,
   "metadata": {},
   "outputs": [],
   "source": [
    "# 6. Remove redundant columns\n",
    "\n",
    "# As PERFORM_CNS.SCORE.DESCRIPTION and PERFORM_CNS.SCORE provide the same info will reatin the score column as it is \n",
    "# numeric and ML algorithms generally perform well on numeric data\n",
    "\n",
    "train.drop('PERFORM_CNS.SCORE.DESCRIPTION', axis=1, inplace=True)"
   ]
  },
  {
   "cell_type": "code",
   "execution_count": 50,
   "metadata": {},
   "outputs": [
    {
     "data": {
      "text/plain": [
       "Index(['UniqueID', 'disbursed_amount', 'asset_cost', 'ltv', 'branch_id',\n",
       "       'supplier_id', 'manufacturer_id', 'Current_pincode_ID',\n",
       "       'Employment.Type', 'State_ID', 'Employee_code_ID', 'Aadhar_flag',\n",
       "       'PAN_flag', 'VoterID_flag', 'Driving_flag', 'Passport_flag',\n",
       "       'PERFORM_CNS.SCORE', 'PRI.NO.OF.ACCTS', 'PRI.ACTIVE.ACCTS',\n",
       "       'PRI.OVERDUE.ACCTS', 'PRI.CURRENT.BALANCE', 'PRI.SANCTIONED.AMOUNT',\n",
       "       'PRI.DISBURSED.AMOUNT', 'SEC.NO.OF.ACCTS', 'SEC.ACTIVE.ACCTS',\n",
       "       'SEC.OVERDUE.ACCTS', 'SEC.CURRENT.BALANCE', 'SEC.SANCTIONED.AMOUNT',\n",
       "       'SEC.DISBURSED.AMOUNT', 'PRIMARY.INSTAL.AMT', 'SEC.INSTAL.AMT',\n",
       "       'NEW.ACCTS.IN.LAST.SIX.MONTHS', 'DELINQUENT.ACCTS.IN.LAST.SIX.MONTHS',\n",
       "       'AVERAGE.ACCT.AGE', 'CREDIT.HISTORY.LENGTH', 'NO.OF_INQUIRIES',\n",
       "       'loan_default', 'disb_age'],\n",
       "      dtype='object')"
      ]
     },
     "execution_count": 50,
     "metadata": {},
     "output_type": "execute_result"
    }
   ],
   "source": [
    "# Verify the revised columns\n",
    "\n",
    "train.columns"
   ]
  },
  {
   "cell_type": "markdown",
   "metadata": {},
   "source": [
    "## EDA"
   ]
  },
  {
   "cell_type": "markdown",
   "metadata": {},
   "source": [
    "1. Are there any high risk states / branches / suppliers / manufacturers / employees?\n",
    "2. Does having more accounts impact risk of defaulting?\n",
    "3. Does recent delinquency have any impact on risk of defaulting?\n",
    "4. Does credit score / credit history length hold any importance for identifying potential defaulters?\n",
    "5. Does employment type have an effect on chance of defaulting?\n",
    "6. Check the age distribution"
   ]
  },
  {
   "cell_type": "code",
   "execution_count": 113,
   "metadata": {},
   "outputs": [
    {
     "data": {
      "image/png": "[encoded data removed]",
      "text/plain": [
       "<Figure size 933.75x1296 with 22 Axes>"
      ]
     },
     "metadata": {
      "needs_background": "light"
     },
     "output_type": "display_data"
    }
   ],
   "source": [
    "# High risk branches\n",
    "\n",
    "g = sns.FacetGrid(train, col='State_ID', col_wrap=4, hue='loan_default', sharey=False)\n",
    "g.map(sns.countplot, 'loan_default').add_legend()\n",
    "plt.suptitle('Defaulter ratio by branches', y=1.02, fontsize=15, color='blue')\n",
    "plt.show()"
   ]
  },
  {
   "cell_type": "code",
   "execution_count": 73,
   "metadata": {},
   "outputs": [],
   "source": [
    "# Top 10 branches based on risk\n",
    "\n",
    "top10_branch = train.pivot_table(index='branch_id', values='loan_default', aggfunc='mean').sort_values('loan_default', ascending=False)[:10]"
   ]
  },
  {
   "cell_type": "code",
   "execution_count": 74,
   "metadata": {},
   "outputs": [
    {
     "data": {
      "text/html": [
       "<div>\n",
       "<style scoped>\n",
       "    .dataframe tbody tr th:only-of-type {\n",
       "        vertical-align: middle;\n",
       "    }\n",
       "\n",
       "    .dataframe tbody tr th {\n",
       "        vertical-align: top;\n",
       "    }\n",
       "\n",
       "    .dataframe thead th {\n",
       "        text-align: right;\n",
       "    }\n",
       "</style>\n",
       "<table border=\"1\" class=\"dataframe\">\n",
       "  <thead>\n",
       "    <tr style=\"text-align: right;\">\n",
       "      <th></th>\n",
       "      <th>loan_default</th>\n",
       "    </tr>\n",
       "    <tr>\n",
       "      <th>branch_id</th>\n",
       "      <th></th>\n",
       "    </tr>\n",
       "  </thead>\n",
       "  <tbody>\n",
       "    <tr>\n",
       "      <th>251</th>\n",
       "      <td>0.343913</td>\n",
       "    </tr>\n",
       "    <tr>\n",
       "      <th>254</th>\n",
       "      <td>0.324308</td>\n",
       "    </tr>\n",
       "    <tr>\n",
       "      <th>97</th>\n",
       "      <td>0.313625</td>\n",
       "    </tr>\n",
       "    <tr>\n",
       "      <th>36</th>\n",
       "      <td>0.296762</td>\n",
       "    </tr>\n",
       "    <tr>\n",
       "      <th>78</th>\n",
       "      <td>0.291476</td>\n",
       "    </tr>\n",
       "    <tr>\n",
       "      <th>153</th>\n",
       "      <td>0.286127</td>\n",
       "    </tr>\n",
       "    <tr>\n",
       "      <th>117</th>\n",
       "      <td>0.283154</td>\n",
       "    </tr>\n",
       "    <tr>\n",
       "      <th>146</th>\n",
       "      <td>0.282552</td>\n",
       "    </tr>\n",
       "    <tr>\n",
       "      <th>105</th>\n",
       "      <td>0.282468</td>\n",
       "    </tr>\n",
       "    <tr>\n",
       "      <th>65</th>\n",
       "      <td>0.281847</td>\n",
       "    </tr>\n",
       "  </tbody>\n",
       "</table>\n",
       "</div>"
      ],
      "text/plain": [
       "           loan_default\n",
       "branch_id              \n",
       "251            0.343913\n",
       "254            0.324308\n",
       "97             0.313625\n",
       "36             0.296762\n",
       "78             0.291476\n",
       "153            0.286127\n",
       "117            0.283154\n",
       "146            0.282552\n",
       "105            0.282468\n",
       "65             0.281847"
      ]
     },
     "execution_count": 74,
     "metadata": {},
     "output_type": "execute_result"
    }
   ],
   "source": [
    "top10_branch"
   ]
  },
  {
   "cell_type": "code",
   "execution_count": 84,
   "metadata": {},
   "outputs": [],
   "source": [
    "# Top 10 suppliers based on risk\n",
    "\n",
    "top10_suppliers = train.pivot_table(index='supplier_id', values='loan_default', aggfunc=['mean', 'count'])"
   ]
  },
  {
   "cell_type": "code",
   "execution_count": 89,
   "metadata": {},
   "outputs": [],
   "source": [
    "top10_suppliers.columns = ['loan_default', 'volume']"
   ]
  },
  {
   "cell_type": "code",
   "execution_count": 94,
   "metadata": {},
   "outputs": [
    {
     "data": {
      "text/html": [
       "<div>\n",
       "<style scoped>\n",
       "    .dataframe tbody tr th:only-of-type {\n",
       "        vertical-align: middle;\n",
       "    }\n",
       "\n",
       "    .dataframe tbody tr th {\n",
       "        vertical-align: top;\n",
       "    }\n",
       "\n",
       "    .dataframe thead th {\n",
       "        text-align: right;\n",
       "    }\n",
       "</style>\n",
       "<table border=\"1\" class=\"dataframe\">\n",
       "  <thead>\n",
       "    <tr style=\"text-align: right;\">\n",
       "      <th></th>\n",
       "      <th>loan_default</th>\n",
       "      <th>volume</th>\n",
       "    </tr>\n",
       "    <tr>\n",
       "      <th>supplier_id</th>\n",
       "      <th></th>\n",
       "      <th></th>\n",
       "    </tr>\n",
       "  </thead>\n",
       "  <tbody>\n",
       "    <tr>\n",
       "      <th>23356</th>\n",
       "      <td>0.761905</td>\n",
       "      <td>21</td>\n",
       "    </tr>\n",
       "    <tr>\n",
       "      <th>24200</th>\n",
       "      <td>0.727273</td>\n",
       "      <td>33</td>\n",
       "    </tr>\n",
       "    <tr>\n",
       "      <th>22880</th>\n",
       "      <td>0.652174</td>\n",
       "      <td>23</td>\n",
       "    </tr>\n",
       "    <tr>\n",
       "      <th>20972</th>\n",
       "      <td>0.645161</td>\n",
       "      <td>31</td>\n",
       "    </tr>\n",
       "    <tr>\n",
       "      <th>22994</th>\n",
       "      <td>0.559016</td>\n",
       "      <td>610</td>\n",
       "    </tr>\n",
       "    <tr>\n",
       "      <th>23150</th>\n",
       "      <td>0.542857</td>\n",
       "      <td>105</td>\n",
       "    </tr>\n",
       "    <tr>\n",
       "      <th>23518</th>\n",
       "      <td>0.538462</td>\n",
       "      <td>26</td>\n",
       "    </tr>\n",
       "    <tr>\n",
       "      <th>24250</th>\n",
       "      <td>0.529412</td>\n",
       "      <td>85</td>\n",
       "    </tr>\n",
       "    <tr>\n",
       "      <th>24006</th>\n",
       "      <td>0.529412</td>\n",
       "      <td>34</td>\n",
       "    </tr>\n",
       "    <tr>\n",
       "      <th>24179</th>\n",
       "      <td>0.526316</td>\n",
       "      <td>38</td>\n",
       "    </tr>\n",
       "    <tr>\n",
       "      <th>24265</th>\n",
       "      <td>0.523810</td>\n",
       "      <td>21</td>\n",
       "    </tr>\n",
       "    <tr>\n",
       "      <th>23334</th>\n",
       "      <td>0.520000</td>\n",
       "      <td>25</td>\n",
       "    </tr>\n",
       "    <tr>\n",
       "      <th>24357</th>\n",
       "      <td>0.515152</td>\n",
       "      <td>66</td>\n",
       "    </tr>\n",
       "    <tr>\n",
       "      <th>23123</th>\n",
       "      <td>0.512821</td>\n",
       "      <td>39</td>\n",
       "    </tr>\n",
       "    <tr>\n",
       "      <th>23886</th>\n",
       "      <td>0.512821</td>\n",
       "      <td>39</td>\n",
       "    </tr>\n",
       "    <tr>\n",
       "      <th>24233</th>\n",
       "      <td>0.506667</td>\n",
       "      <td>75</td>\n",
       "    </tr>\n",
       "    <tr>\n",
       "      <th>21345</th>\n",
       "      <td>0.500000</td>\n",
       "      <td>50</td>\n",
       "    </tr>\n",
       "    <tr>\n",
       "      <th>23829</th>\n",
       "      <td>0.500000</td>\n",
       "      <td>48</td>\n",
       "    </tr>\n",
       "    <tr>\n",
       "      <th>23648</th>\n",
       "      <td>0.491228</td>\n",
       "      <td>57</td>\n",
       "    </tr>\n",
       "    <tr>\n",
       "      <th>18556</th>\n",
       "      <td>0.480769</td>\n",
       "      <td>52</td>\n",
       "    </tr>\n",
       "    <tr>\n",
       "      <th>22127</th>\n",
       "      <td>0.480000</td>\n",
       "      <td>125</td>\n",
       "    </tr>\n",
       "    <tr>\n",
       "      <th>24045</th>\n",
       "      <td>0.476190</td>\n",
       "      <td>21</td>\n",
       "    </tr>\n",
       "    <tr>\n",
       "      <th>23118</th>\n",
       "      <td>0.474576</td>\n",
       "      <td>59</td>\n",
       "    </tr>\n",
       "    <tr>\n",
       "      <th>24424</th>\n",
       "      <td>0.468750</td>\n",
       "      <td>32</td>\n",
       "    </tr>\n",
       "    <tr>\n",
       "      <th>24296</th>\n",
       "      <td>0.466667</td>\n",
       "      <td>30</td>\n",
       "    </tr>\n",
       "    <tr>\n",
       "      <th>23752</th>\n",
       "      <td>0.461538</td>\n",
       "      <td>65</td>\n",
       "    </tr>\n",
       "    <tr>\n",
       "      <th>17284</th>\n",
       "      <td>0.461538</td>\n",
       "      <td>26</td>\n",
       "    </tr>\n",
       "    <tr>\n",
       "      <th>24189</th>\n",
       "      <td>0.461538</td>\n",
       "      <td>26</td>\n",
       "    </tr>\n",
       "    <tr>\n",
       "      <th>24578</th>\n",
       "      <td>0.458333</td>\n",
       "      <td>24</td>\n",
       "    </tr>\n",
       "    <tr>\n",
       "      <th>24216</th>\n",
       "      <td>0.451613</td>\n",
       "      <td>62</td>\n",
       "    </tr>\n",
       "    <tr>\n",
       "      <th>...</th>\n",
       "      <td>...</td>\n",
       "      <td>...</td>\n",
       "    </tr>\n",
       "    <tr>\n",
       "      <th>23232</th>\n",
       "      <td>0.059524</td>\n",
       "      <td>84</td>\n",
       "    </tr>\n",
       "    <tr>\n",
       "      <th>18409</th>\n",
       "      <td>0.055556</td>\n",
       "      <td>54</td>\n",
       "    </tr>\n",
       "    <tr>\n",
       "      <th>13929</th>\n",
       "      <td>0.055556</td>\n",
       "      <td>36</td>\n",
       "    </tr>\n",
       "    <tr>\n",
       "      <th>23205</th>\n",
       "      <td>0.051282</td>\n",
       "      <td>39</td>\n",
       "    </tr>\n",
       "    <tr>\n",
       "      <th>14432</th>\n",
       "      <td>0.050633</td>\n",
       "      <td>79</td>\n",
       "    </tr>\n",
       "    <tr>\n",
       "      <th>21601</th>\n",
       "      <td>0.049180</td>\n",
       "      <td>61</td>\n",
       "    </tr>\n",
       "    <tr>\n",
       "      <th>18327</th>\n",
       "      <td>0.047619</td>\n",
       "      <td>21</td>\n",
       "    </tr>\n",
       "    <tr>\n",
       "      <th>24286</th>\n",
       "      <td>0.047619</td>\n",
       "      <td>21</td>\n",
       "    </tr>\n",
       "    <tr>\n",
       "      <th>18661</th>\n",
       "      <td>0.046512</td>\n",
       "      <td>43</td>\n",
       "    </tr>\n",
       "    <tr>\n",
       "      <th>21033</th>\n",
       "      <td>0.045455</td>\n",
       "      <td>110</td>\n",
       "    </tr>\n",
       "    <tr>\n",
       "      <th>16172</th>\n",
       "      <td>0.045455</td>\n",
       "      <td>44</td>\n",
       "    </tr>\n",
       "    <tr>\n",
       "      <th>23112</th>\n",
       "      <td>0.045455</td>\n",
       "      <td>22</td>\n",
       "    </tr>\n",
       "    <tr>\n",
       "      <th>24287</th>\n",
       "      <td>0.045455</td>\n",
       "      <td>22</td>\n",
       "    </tr>\n",
       "    <tr>\n",
       "      <th>24434</th>\n",
       "      <td>0.045455</td>\n",
       "      <td>22</td>\n",
       "    </tr>\n",
       "    <tr>\n",
       "      <th>23063</th>\n",
       "      <td>0.043478</td>\n",
       "      <td>46</td>\n",
       "    </tr>\n",
       "    <tr>\n",
       "      <th>18388</th>\n",
       "      <td>0.041667</td>\n",
       "      <td>120</td>\n",
       "    </tr>\n",
       "    <tr>\n",
       "      <th>23784</th>\n",
       "      <td>0.041667</td>\n",
       "      <td>24</td>\n",
       "    </tr>\n",
       "    <tr>\n",
       "      <th>22786</th>\n",
       "      <td>0.040816</td>\n",
       "      <td>49</td>\n",
       "    </tr>\n",
       "    <tr>\n",
       "      <th>14320</th>\n",
       "      <td>0.040000</td>\n",
       "      <td>25</td>\n",
       "    </tr>\n",
       "    <tr>\n",
       "      <th>23634</th>\n",
       "      <td>0.037037</td>\n",
       "      <td>27</td>\n",
       "    </tr>\n",
       "    <tr>\n",
       "      <th>23057</th>\n",
       "      <td>0.033333</td>\n",
       "      <td>30</td>\n",
       "    </tr>\n",
       "    <tr>\n",
       "      <th>23878</th>\n",
       "      <td>0.033333</td>\n",
       "      <td>30</td>\n",
       "    </tr>\n",
       "    <tr>\n",
       "      <th>16499</th>\n",
       "      <td>0.031250</td>\n",
       "      <td>32</td>\n",
       "    </tr>\n",
       "    <tr>\n",
       "      <th>24305</th>\n",
       "      <td>0.026316</td>\n",
       "      <td>38</td>\n",
       "    </tr>\n",
       "    <tr>\n",
       "      <th>23178</th>\n",
       "      <td>0.022222</td>\n",
       "      <td>45</td>\n",
       "    </tr>\n",
       "    <tr>\n",
       "      <th>18060</th>\n",
       "      <td>0.018182</td>\n",
       "      <td>55</td>\n",
       "    </tr>\n",
       "    <tr>\n",
       "      <th>14622</th>\n",
       "      <td>0.000000</td>\n",
       "      <td>40</td>\n",
       "    </tr>\n",
       "    <tr>\n",
       "      <th>23336</th>\n",
       "      <td>0.000000</td>\n",
       "      <td>22</td>\n",
       "    </tr>\n",
       "    <tr>\n",
       "      <th>24218</th>\n",
       "      <td>0.000000</td>\n",
       "      <td>22</td>\n",
       "    </tr>\n",
       "    <tr>\n",
       "      <th>24396</th>\n",
       "      <td>0.000000</td>\n",
       "      <td>21</td>\n",
       "    </tr>\n",
       "  </tbody>\n",
       "</table>\n",
       "<p>1875 rows × 2 columns</p>\n",
       "</div>"
      ],
      "text/plain": [
       "             loan_default  volume\n",
       "supplier_id                      \n",
       "23356            0.761905      21\n",
       "24200            0.727273      33\n",
       "22880            0.652174      23\n",
       "20972            0.645161      31\n",
       "22994            0.559016     610\n",
       "23150            0.542857     105\n",
       "23518            0.538462      26\n",
       "24250            0.529412      85\n",
       "24006            0.529412      34\n",
       "24179            0.526316      38\n",
       "24265            0.523810      21\n",
       "23334            0.520000      25\n",
       "24357            0.515152      66\n",
       "23123            0.512821      39\n",
       "23886            0.512821      39\n",
       "24233            0.506667      75\n",
       "21345            0.500000      50\n",
       "23829            0.500000      48\n",
       "23648            0.491228      57\n",
       "18556            0.480769      52\n",
       "22127            0.480000     125\n",
       "24045            0.476190      21\n",
       "23118            0.474576      59\n",
       "24424            0.468750      32\n",
       "24296            0.466667      30\n",
       "23752            0.461538      65\n",
       "17284            0.461538      26\n",
       "24189            0.461538      26\n",
       "24578            0.458333      24\n",
       "24216            0.451613      62\n",
       "...                   ...     ...\n",
       "23232            0.059524      84\n",
       "18409            0.055556      54\n",
       "13929            0.055556      36\n",
       "23205            0.051282      39\n",
       "14432            0.050633      79\n",
       "21601            0.049180      61\n",
       "18327            0.047619      21\n",
       "24286            0.047619      21\n",
       "18661            0.046512      43\n",
       "21033            0.045455     110\n",
       "16172            0.045455      44\n",
       "23112            0.045455      22\n",
       "24287            0.045455      22\n",
       "24434            0.045455      22\n",
       "23063            0.043478      46\n",
       "18388            0.041667     120\n",
       "23784            0.041667      24\n",
       "22786            0.040816      49\n",
       "14320            0.040000      25\n",
       "23634            0.037037      27\n",
       "23057            0.033333      30\n",
       "23878            0.033333      30\n",
       "16499            0.031250      32\n",
       "24305            0.026316      38\n",
       "23178            0.022222      45\n",
       "18060            0.018182      55\n",
       "14622            0.000000      40\n",
       "23336            0.000000      22\n",
       "24218            0.000000      22\n",
       "24396            0.000000      21\n",
       "\n",
       "[1875 rows x 2 columns]"
      ]
     },
     "execution_count": 94,
     "metadata": {},
     "output_type": "execute_result"
    }
   ],
   "source": [
    "top10_suppliers[top10_suppliers['volume'] > 20].sort_values(['loan_default', 'volume'], ascending=[False, False])"
   ]
  },
  {
   "cell_type": "code",
   "execution_count": 95,
   "metadata": {},
   "outputs": [],
   "source": [
    "# Top 10 maufacturers based on risk\n",
    "\n",
    "top10_manufacturers = train.pivot_table(index='manufacturer_id', values='loan_default', aggfunc=['mean', 'count'])"
   ]
  },
  {
   "cell_type": "code",
   "execution_count": 96,
   "metadata": {},
   "outputs": [
    {
     "data": {
      "text/html": [
       "<div>\n",
       "<style scoped>\n",
       "    .dataframe tbody tr th:only-of-type {\n",
       "        vertical-align: middle;\n",
       "    }\n",
       "\n",
       "    .dataframe tbody tr th {\n",
       "        vertical-align: top;\n",
       "    }\n",
       "\n",
       "    .dataframe thead tr th {\n",
       "        text-align: left;\n",
       "    }\n",
       "\n",
       "    .dataframe thead tr:last-of-type th {\n",
       "        text-align: right;\n",
       "    }\n",
       "</style>\n",
       "<table border=\"1\" class=\"dataframe\">\n",
       "  <thead>\n",
       "    <tr>\n",
       "      <th></th>\n",
       "      <th>mean</th>\n",
       "      <th>count</th>\n",
       "    </tr>\n",
       "    <tr>\n",
       "      <th></th>\n",
       "      <th>loan_default</th>\n",
       "      <th>loan_default</th>\n",
       "    </tr>\n",
       "    <tr>\n",
       "      <th>manufacturer_id</th>\n",
       "      <th></th>\n",
       "      <th></th>\n",
       "    </tr>\n",
       "  </thead>\n",
       "  <tbody>\n",
       "    <tr>\n",
       "      <th>45</th>\n",
       "      <td>0.228499</td>\n",
       "      <td>56626</td>\n",
       "    </tr>\n",
       "    <tr>\n",
       "      <th>48</th>\n",
       "      <td>0.272531</td>\n",
       "      <td>16710</td>\n",
       "    </tr>\n",
       "    <tr>\n",
       "      <th>49</th>\n",
       "      <td>0.218787</td>\n",
       "      <td>10220</td>\n",
       "    </tr>\n",
       "    <tr>\n",
       "      <th>51</th>\n",
       "      <td>0.207947</td>\n",
       "      <td>27204</td>\n",
       "    </tr>\n",
       "    <tr>\n",
       "      <th>67</th>\n",
       "      <td>0.217464</td>\n",
       "      <td>2405</td>\n",
       "    </tr>\n",
       "    <tr>\n",
       "      <th>86</th>\n",
       "      <td>0.204594</td>\n",
       "      <td>109534</td>\n",
       "    </tr>\n",
       "    <tr>\n",
       "      <th>120</th>\n",
       "      <td>0.220750</td>\n",
       "      <td>9658</td>\n",
       "    </tr>\n",
       "    <tr>\n",
       "      <th>145</th>\n",
       "      <td>0.200514</td>\n",
       "      <td>778</td>\n",
       "    </tr>\n",
       "    <tr>\n",
       "      <th>152</th>\n",
       "      <td>0.000000</td>\n",
       "      <td>6</td>\n",
       "    </tr>\n",
       "    <tr>\n",
       "      <th>153</th>\n",
       "      <td>0.333333</td>\n",
       "      <td>12</td>\n",
       "    </tr>\n",
       "    <tr>\n",
       "      <th>156</th>\n",
       "      <td>0.000000</td>\n",
       "      <td>1</td>\n",
       "    </tr>\n",
       "  </tbody>\n",
       "</table>\n",
       "</div>"
      ],
      "text/plain": [
       "                        mean        count\n",
       "                loan_default loan_default\n",
       "manufacturer_id                          \n",
       "45                  0.228499        56626\n",
       "48                  0.272531        16710\n",
       "49                  0.218787        10220\n",
       "51                  0.207947        27204\n",
       "67                  0.217464         2405\n",
       "86                  0.204594       109534\n",
       "120                 0.220750         9658\n",
       "145                 0.200514          778\n",
       "152                 0.000000            6\n",
       "153                 0.333333           12\n",
       "156                 0.000000            1"
      ]
     },
     "execution_count": 96,
     "metadata": {},
     "output_type": "execute_result"
    }
   ],
   "source": [
    "top10_manufacturers"
   ]
  },
  {
   "cell_type": "code",
   "execution_count": 115,
   "metadata": {},
   "outputs": [
    {
     "data": {
      "image/png": "[encoded data removed]",
      "text/plain": [
       "<Figure size 933.75x216 with 3 Axes>"
      ]
     },
     "metadata": {
      "needs_background": "light"
     },
     "output_type": "display_data"
    }
   ],
   "source": [
    "# Does employment type have an effect on chance of defaulting? \n",
    "\n",
    "g = sns.FacetGrid(train, col='Employment.Type', col_wrap=4, hue='loan_default', sharey=False)\n",
    "g.map(sns.countplot, 'loan_default').add_legend()\n",
    "plt.suptitle('Defaulter ratio by employment', y=1.05, fontsize=15, color='blue')\n",
    "plt.show()"
   ]
  },
  {
   "cell_type": "code",
   "execution_count": 98,
   "metadata": {},
   "outputs": [
    {
     "data": {
      "text/html": [
       "<div>\n",
       "<style scoped>\n",
       "    .dataframe tbody tr th:only-of-type {\n",
       "        vertical-align: middle;\n",
       "    }\n",
       "\n",
       "    .dataframe tbody tr th {\n",
       "        vertical-align: top;\n",
       "    }\n",
       "\n",
       "    .dataframe thead th {\n",
       "        text-align: right;\n",
       "    }\n",
       "</style>\n",
       "<table border=\"1\" class=\"dataframe\">\n",
       "  <thead>\n",
       "    <tr style=\"text-align: right;\">\n",
       "      <th></th>\n",
       "      <th>loan_default</th>\n",
       "    </tr>\n",
       "    <tr>\n",
       "      <th>Employment.Type</th>\n",
       "      <th></th>\n",
       "    </tr>\n",
       "  </thead>\n",
       "  <tbody>\n",
       "    <tr>\n",
       "      <th>Salaried</th>\n",
       "      <td>0.203458</td>\n",
       "    </tr>\n",
       "    <tr>\n",
       "      <th>Self employed</th>\n",
       "      <td>0.227657</td>\n",
       "    </tr>\n",
       "    <tr>\n",
       "      <th>Unspecified</th>\n",
       "      <td>0.214593</td>\n",
       "    </tr>\n",
       "  </tbody>\n",
       "</table>\n",
       "</div>"
      ],
      "text/plain": [
       "                 loan_default\n",
       "Employment.Type              \n",
       "Salaried             0.203458\n",
       "Self employed        0.227657\n",
       "Unspecified          0.214593"
      ]
     },
     "execution_count": 98,
     "metadata": {},
     "output_type": "execute_result"
    }
   ],
   "source": [
    "train.pivot_table(index='Employment.Type', values='loan_default', aggfunc='mean')"
   ]
  },
  {
   "cell_type": "code",
   "execution_count": 119,
   "metadata": {},
   "outputs": [
    {
     "data": {
      "image/png": "[encoded data removed]",
      "text/plain": [
       "<Figure size 656x216 with 3 Axes>"
      ]
     },
     "metadata": {
      "needs_background": "light"
     },
     "output_type": "display_data"
    }
   ],
   "source": [
    "g = sns.FacetGrid(train, col='Employment.Type', sharey=False, col_wrap=3)\n",
    "g.map(plt.hist, 'loan_default')\n",
    "plt.suptitle('Defaulter ratio histogram by employment', y=1.05, fontsize=15, color='blue')\n",
    "plt.show()"
   ]
  },
  {
   "cell_type": "code",
   "execution_count": 118,
   "metadata": {},
   "outputs": [
    {
     "data": {
      "image/png": "[encoded data removed]",
      "text/plain": [
       "<Figure size 432x288 with 1 Axes>"
      ]
     },
     "metadata": {
      "needs_background": "light"
     },
     "output_type": "display_data"
    }
   ],
   "source": [
    "# Checking age distribution\n",
    "\n",
    "plt.boxplot(train['disb_age'])\n",
    "plt.title('Age distribution of borrowers', fontsize=15, color='blue')\n",
    "plt.show()"
   ]
  },
  {
   "cell_type": "code",
   "execution_count": 107,
   "metadata": {},
   "outputs": [],
   "source": [
    "# Other EDA questions to be practised"
   ]
  },
  {
   "cell_type": "markdown",
   "metadata": {},
   "source": [
    "## Feature Engineering"
   ]
  },
  {
   "cell_type": "markdown",
   "metadata": {},
   "source": [
    "1. Convert categorical to int\n",
    "2. Combinig all the flag columns as a single column for total documents"
   ]
  },
  {
   "cell_type": "code",
   "execution_count": 125,
   "metadata": {},
   "outputs": [],
   "source": [
    "# Converting all IDs to sensible numbers (Risk of default - inspired by WOE)\n",
    "\n",
    "id_ls = ['branch_id', 'supplier_id', 'manufacturer_id', 'Current_pincode_ID', 'State_ID', 'Employee_code_ID', ]\n",
    "\n",
    "for col in id_ls:\n",
    "    newcol = col + '_risk'\n",
    "    train[newcol] = train.groupby(col)['loan_default'].transform('mean')"
   ]
  },
  {
   "cell_type": "code",
   "execution_count": 126,
   "metadata": {},
   "outputs": [
    {
     "data": {
      "text/html": [
       "<div>\n",
       "<style scoped>\n",
       "    .dataframe tbody tr th:only-of-type {\n",
       "        vertical-align: middle;\n",
       "    }\n",
       "\n",
       "    .dataframe tbody tr th {\n",
       "        vertical-align: top;\n",
       "    }\n",
       "\n",
       "    .dataframe thead th {\n",
       "        text-align: right;\n",
       "    }\n",
       "</style>\n",
       "<table border=\"1\" class=\"dataframe\">\n",
       "  <thead>\n",
       "    <tr style=\"text-align: right;\">\n",
       "      <th></th>\n",
       "      <th>branch_id</th>\n",
       "      <th>branch_id_risk</th>\n",
       "    </tr>\n",
       "  </thead>\n",
       "  <tbody>\n",
       "    <tr>\n",
       "      <th>0</th>\n",
       "      <td>67</td>\n",
       "      <td>0.194032</td>\n",
       "    </tr>\n",
       "    <tr>\n",
       "      <th>1</th>\n",
       "      <td>67</td>\n",
       "      <td>0.194032</td>\n",
       "    </tr>\n",
       "    <tr>\n",
       "      <th>2</th>\n",
       "      <td>67</td>\n",
       "      <td>0.194032</td>\n",
       "    </tr>\n",
       "    <tr>\n",
       "      <th>3</th>\n",
       "      <td>67</td>\n",
       "      <td>0.194032</td>\n",
       "    </tr>\n",
       "    <tr>\n",
       "      <th>4</th>\n",
       "      <td>67</td>\n",
       "      <td>0.194032</td>\n",
       "    </tr>\n",
       "    <tr>\n",
       "      <th>5</th>\n",
       "      <td>67</td>\n",
       "      <td>0.194032</td>\n",
       "    </tr>\n",
       "    <tr>\n",
       "      <th>6</th>\n",
       "      <td>67</td>\n",
       "      <td>0.194032</td>\n",
       "    </tr>\n",
       "    <tr>\n",
       "      <th>7</th>\n",
       "      <td>67</td>\n",
       "      <td>0.194032</td>\n",
       "    </tr>\n",
       "    <tr>\n",
       "      <th>8</th>\n",
       "      <td>67</td>\n",
       "      <td>0.194032</td>\n",
       "    </tr>\n",
       "    <tr>\n",
       "      <th>9</th>\n",
       "      <td>67</td>\n",
       "      <td>0.194032</td>\n",
       "    </tr>\n",
       "    <tr>\n",
       "      <th>10</th>\n",
       "      <td>67</td>\n",
       "      <td>0.194032</td>\n",
       "    </tr>\n",
       "    <tr>\n",
       "      <th>11</th>\n",
       "      <td>67</td>\n",
       "      <td>0.194032</td>\n",
       "    </tr>\n",
       "    <tr>\n",
       "      <th>12</th>\n",
       "      <td>67</td>\n",
       "      <td>0.194032</td>\n",
       "    </tr>\n",
       "    <tr>\n",
       "      <th>13</th>\n",
       "      <td>67</td>\n",
       "      <td>0.194032</td>\n",
       "    </tr>\n",
       "    <tr>\n",
       "      <th>14</th>\n",
       "      <td>67</td>\n",
       "      <td>0.194032</td>\n",
       "    </tr>\n",
       "    <tr>\n",
       "      <th>15</th>\n",
       "      <td>67</td>\n",
       "      <td>0.194032</td>\n",
       "    </tr>\n",
       "    <tr>\n",
       "      <th>16</th>\n",
       "      <td>67</td>\n",
       "      <td>0.194032</td>\n",
       "    </tr>\n",
       "    <tr>\n",
       "      <th>17</th>\n",
       "      <td>67</td>\n",
       "      <td>0.194032</td>\n",
       "    </tr>\n",
       "    <tr>\n",
       "      <th>18</th>\n",
       "      <td>67</td>\n",
       "      <td>0.194032</td>\n",
       "    </tr>\n",
       "    <tr>\n",
       "      <th>19</th>\n",
       "      <td>67</td>\n",
       "      <td>0.194032</td>\n",
       "    </tr>\n",
       "    <tr>\n",
       "      <th>20</th>\n",
       "      <td>67</td>\n",
       "      <td>0.194032</td>\n",
       "    </tr>\n",
       "    <tr>\n",
       "      <th>21</th>\n",
       "      <td>67</td>\n",
       "      <td>0.194032</td>\n",
       "    </tr>\n",
       "    <tr>\n",
       "      <th>22</th>\n",
       "      <td>67</td>\n",
       "      <td>0.194032</td>\n",
       "    </tr>\n",
       "    <tr>\n",
       "      <th>23</th>\n",
       "      <td>67</td>\n",
       "      <td>0.194032</td>\n",
       "    </tr>\n",
       "    <tr>\n",
       "      <th>24</th>\n",
       "      <td>67</td>\n",
       "      <td>0.194032</td>\n",
       "    </tr>\n",
       "    <tr>\n",
       "      <th>25</th>\n",
       "      <td>67</td>\n",
       "      <td>0.194032</td>\n",
       "    </tr>\n",
       "    <tr>\n",
       "      <th>26</th>\n",
       "      <td>67</td>\n",
       "      <td>0.194032</td>\n",
       "    </tr>\n",
       "    <tr>\n",
       "      <th>27</th>\n",
       "      <td>67</td>\n",
       "      <td>0.194032</td>\n",
       "    </tr>\n",
       "    <tr>\n",
       "      <th>28</th>\n",
       "      <td>67</td>\n",
       "      <td>0.194032</td>\n",
       "    </tr>\n",
       "    <tr>\n",
       "      <th>29</th>\n",
       "      <td>67</td>\n",
       "      <td>0.194032</td>\n",
       "    </tr>\n",
       "    <tr>\n",
       "      <th>...</th>\n",
       "      <td>...</td>\n",
       "      <td>...</td>\n",
       "    </tr>\n",
       "    <tr>\n",
       "      <th>233124</th>\n",
       "      <td>101</td>\n",
       "      <td>0.233696</td>\n",
       "    </tr>\n",
       "    <tr>\n",
       "      <th>233125</th>\n",
       "      <td>101</td>\n",
       "      <td>0.233696</td>\n",
       "    </tr>\n",
       "    <tr>\n",
       "      <th>233126</th>\n",
       "      <td>101</td>\n",
       "      <td>0.233696</td>\n",
       "    </tr>\n",
       "    <tr>\n",
       "      <th>233127</th>\n",
       "      <td>101</td>\n",
       "      <td>0.233696</td>\n",
       "    </tr>\n",
       "    <tr>\n",
       "      <th>233128</th>\n",
       "      <td>101</td>\n",
       "      <td>0.233696</td>\n",
       "    </tr>\n",
       "    <tr>\n",
       "      <th>233129</th>\n",
       "      <td>101</td>\n",
       "      <td>0.233696</td>\n",
       "    </tr>\n",
       "    <tr>\n",
       "      <th>233130</th>\n",
       "      <td>101</td>\n",
       "      <td>0.233696</td>\n",
       "    </tr>\n",
       "    <tr>\n",
       "      <th>233131</th>\n",
       "      <td>101</td>\n",
       "      <td>0.233696</td>\n",
       "    </tr>\n",
       "    <tr>\n",
       "      <th>233132</th>\n",
       "      <td>101</td>\n",
       "      <td>0.233696</td>\n",
       "    </tr>\n",
       "    <tr>\n",
       "      <th>233133</th>\n",
       "      <td>34</td>\n",
       "      <td>0.182063</td>\n",
       "    </tr>\n",
       "    <tr>\n",
       "      <th>233134</th>\n",
       "      <td>34</td>\n",
       "      <td>0.182063</td>\n",
       "    </tr>\n",
       "    <tr>\n",
       "      <th>233135</th>\n",
       "      <td>34</td>\n",
       "      <td>0.182063</td>\n",
       "    </tr>\n",
       "    <tr>\n",
       "      <th>233136</th>\n",
       "      <td>34</td>\n",
       "      <td>0.182063</td>\n",
       "    </tr>\n",
       "    <tr>\n",
       "      <th>233137</th>\n",
       "      <td>34</td>\n",
       "      <td>0.182063</td>\n",
       "    </tr>\n",
       "    <tr>\n",
       "      <th>233138</th>\n",
       "      <td>34</td>\n",
       "      <td>0.182063</td>\n",
       "    </tr>\n",
       "    <tr>\n",
       "      <th>233139</th>\n",
       "      <td>34</td>\n",
       "      <td>0.182063</td>\n",
       "    </tr>\n",
       "    <tr>\n",
       "      <th>233140</th>\n",
       "      <td>34</td>\n",
       "      <td>0.182063</td>\n",
       "    </tr>\n",
       "    <tr>\n",
       "      <th>233141</th>\n",
       "      <td>34</td>\n",
       "      <td>0.182063</td>\n",
       "    </tr>\n",
       "    <tr>\n",
       "      <th>233142</th>\n",
       "      <td>34</td>\n",
       "      <td>0.182063</td>\n",
       "    </tr>\n",
       "    <tr>\n",
       "      <th>233143</th>\n",
       "      <td>34</td>\n",
       "      <td>0.182063</td>\n",
       "    </tr>\n",
       "    <tr>\n",
       "      <th>233144</th>\n",
       "      <td>34</td>\n",
       "      <td>0.182063</td>\n",
       "    </tr>\n",
       "    <tr>\n",
       "      <th>233145</th>\n",
       "      <td>34</td>\n",
       "      <td>0.182063</td>\n",
       "    </tr>\n",
       "    <tr>\n",
       "      <th>233146</th>\n",
       "      <td>34</td>\n",
       "      <td>0.182063</td>\n",
       "    </tr>\n",
       "    <tr>\n",
       "      <th>233147</th>\n",
       "      <td>34</td>\n",
       "      <td>0.182063</td>\n",
       "    </tr>\n",
       "    <tr>\n",
       "      <th>233148</th>\n",
       "      <td>34</td>\n",
       "      <td>0.182063</td>\n",
       "    </tr>\n",
       "    <tr>\n",
       "      <th>233149</th>\n",
       "      <td>34</td>\n",
       "      <td>0.182063</td>\n",
       "    </tr>\n",
       "    <tr>\n",
       "      <th>233150</th>\n",
       "      <td>34</td>\n",
       "      <td>0.182063</td>\n",
       "    </tr>\n",
       "    <tr>\n",
       "      <th>233151</th>\n",
       "      <td>77</td>\n",
       "      <td>0.193080</td>\n",
       "    </tr>\n",
       "    <tr>\n",
       "      <th>233152</th>\n",
       "      <td>77</td>\n",
       "      <td>0.193080</td>\n",
       "    </tr>\n",
       "    <tr>\n",
       "      <th>233153</th>\n",
       "      <td>77</td>\n",
       "      <td>0.193080</td>\n",
       "    </tr>\n",
       "  </tbody>\n",
       "</table>\n",
       "<p>233154 rows × 2 columns</p>\n",
       "</div>"
      ],
      "text/plain": [
       "        branch_id  branch_id_risk\n",
       "0              67        0.194032\n",
       "1              67        0.194032\n",
       "2              67        0.194032\n",
       "3              67        0.194032\n",
       "4              67        0.194032\n",
       "5              67        0.194032\n",
       "6              67        0.194032\n",
       "7              67        0.194032\n",
       "8              67        0.194032\n",
       "9              67        0.194032\n",
       "10             67        0.194032\n",
       "11             67        0.194032\n",
       "12             67        0.194032\n",
       "13             67        0.194032\n",
       "14             67        0.194032\n",
       "15             67        0.194032\n",
       "16             67        0.194032\n",
       "17             67        0.194032\n",
       "18             67        0.194032\n",
       "19             67        0.194032\n",
       "20             67        0.194032\n",
       "21             67        0.194032\n",
       "22             67        0.194032\n",
       "23             67        0.194032\n",
       "24             67        0.194032\n",
       "25             67        0.194032\n",
       "26             67        0.194032\n",
       "27             67        0.194032\n",
       "28             67        0.194032\n",
       "29             67        0.194032\n",
       "...           ...             ...\n",
       "233124        101        0.233696\n",
       "233125        101        0.233696\n",
       "233126        101        0.233696\n",
       "233127        101        0.233696\n",
       "233128        101        0.233696\n",
       "233129        101        0.233696\n",
       "233130        101        0.233696\n",
       "233131        101        0.233696\n",
       "233132        101        0.233696\n",
       "233133         34        0.182063\n",
       "233134         34        0.182063\n",
       "233135         34        0.182063\n",
       "233136         34        0.182063\n",
       "233137         34        0.182063\n",
       "233138         34        0.182063\n",
       "233139         34        0.182063\n",
       "233140         34        0.182063\n",
       "233141         34        0.182063\n",
       "233142         34        0.182063\n",
       "233143         34        0.182063\n",
       "233144         34        0.182063\n",
       "233145         34        0.182063\n",
       "233146         34        0.182063\n",
       "233147         34        0.182063\n",
       "233148         34        0.182063\n",
       "233149         34        0.182063\n",
       "233150         34        0.182063\n",
       "233151         77        0.193080\n",
       "233152         77        0.193080\n",
       "233153         77        0.193080\n",
       "\n",
       "[233154 rows x 2 columns]"
      ]
     },
     "execution_count": 126,
     "metadata": {},
     "output_type": "execute_result"
    }
   ],
   "source": [
    "# Understand the output\n",
    "\n",
    "train[['branch_id', 'branch_id_risk']]"
   ]
  },
  {
   "cell_type": "code",
   "execution_count": 128,
   "metadata": {},
   "outputs": [],
   "source": [
    "# Drop all the IDs columns\n",
    "\n",
    "train.drop(id_ls, axis=1, inplace=True)"
   ]
  },
  {
   "cell_type": "code",
   "execution_count": 129,
   "metadata": {},
   "outputs": [
    {
     "data": {
      "text/plain": [
       "Index(['UniqueID', 'disbursed_amount', 'asset_cost', 'ltv', 'Employment.Type',\n",
       "       'Aadhar_flag', 'PAN_flag', 'VoterID_flag', 'Driving_flag',\n",
       "       'Passport_flag', 'PERFORM_CNS.SCORE', 'PRI.NO.OF.ACCTS',\n",
       "       'PRI.ACTIVE.ACCTS', 'PRI.OVERDUE.ACCTS', 'PRI.CURRENT.BALANCE',\n",
       "       'PRI.SANCTIONED.AMOUNT', 'PRI.DISBURSED.AMOUNT', 'SEC.NO.OF.ACCTS',\n",
       "       'SEC.ACTIVE.ACCTS', 'SEC.OVERDUE.ACCTS', 'SEC.CURRENT.BALANCE',\n",
       "       'SEC.SANCTIONED.AMOUNT', 'SEC.DISBURSED.AMOUNT', 'PRIMARY.INSTAL.AMT',\n",
       "       'SEC.INSTAL.AMT', 'NEW.ACCTS.IN.LAST.SIX.MONTHS',\n",
       "       'DELINQUENT.ACCTS.IN.LAST.SIX.MONTHS', 'AVERAGE.ACCT.AGE',\n",
       "       'CREDIT.HISTORY.LENGTH', 'NO.OF_INQUIRIES', 'loan_default', 'disb_age',\n",
       "       'branch_id_risk', 'supplier_id_risk', 'manufacturer_id_risk',\n",
       "       'Current_pincode_ID_risk', 'State_ID_risk', 'Employee_code_ID_risk'],\n",
       "      dtype='object')"
      ]
     },
     "execution_count": 129,
     "metadata": {},
     "output_type": "execute_result"
    }
   ],
   "source": [
    "# Verify columns\n",
    "\n",
    "train.columns"
   ]
  },
  {
   "cell_type": "code",
   "execution_count": 133,
   "metadata": {},
   "outputs": [],
   "source": [
    "# Convert employment type to int using OHE\n",
    "\n",
    "train = pd.get_dummies(train, columns=['Employment.Type'], drop_first=True)"
   ]
  },
  {
   "cell_type": "code",
   "execution_count": 134,
   "metadata": {},
   "outputs": [
    {
     "data": {
      "text/plain": [
       "Index(['UniqueID', 'disbursed_amount', 'asset_cost', 'ltv', 'Aadhar_flag',\n",
       "       'PAN_flag', 'VoterID_flag', 'Driving_flag', 'Passport_flag',\n",
       "       'PERFORM_CNS.SCORE', 'PRI.NO.OF.ACCTS', 'PRI.ACTIVE.ACCTS',\n",
       "       'PRI.OVERDUE.ACCTS', 'PRI.CURRENT.BALANCE', 'PRI.SANCTIONED.AMOUNT',\n",
       "       'PRI.DISBURSED.AMOUNT', 'SEC.NO.OF.ACCTS', 'SEC.ACTIVE.ACCTS',\n",
       "       'SEC.OVERDUE.ACCTS', 'SEC.CURRENT.BALANCE', 'SEC.SANCTIONED.AMOUNT',\n",
       "       'SEC.DISBURSED.AMOUNT', 'PRIMARY.INSTAL.AMT', 'SEC.INSTAL.AMT',\n",
       "       'NEW.ACCTS.IN.LAST.SIX.MONTHS', 'DELINQUENT.ACCTS.IN.LAST.SIX.MONTHS',\n",
       "       'AVERAGE.ACCT.AGE', 'CREDIT.HISTORY.LENGTH', 'NO.OF_INQUIRIES',\n",
       "       'loan_default', 'disb_age', 'branch_id_risk', 'supplier_id_risk',\n",
       "       'manufacturer_id_risk', 'Current_pincode_ID_risk', 'State_ID_risk',\n",
       "       'Employee_code_ID_risk', 'Employment.Type_Self employed',\n",
       "       'Employment.Type_Unspecified'],\n",
       "      dtype='object')"
      ]
     },
     "execution_count": 134,
     "metadata": {},
     "output_type": "execute_result"
    }
   ],
   "source": [
    "# Verify columns\n",
    "\n",
    "train.columns"
   ]
  },
  {
   "cell_type": "code",
   "execution_count": 135,
   "metadata": {},
   "outputs": [
    {
     "data": {
      "text/html": [
       "<div>\n",
       "<style scoped>\n",
       "    .dataframe tbody tr th:only-of-type {\n",
       "        vertical-align: middle;\n",
       "    }\n",
       "\n",
       "    .dataframe tbody tr th {\n",
       "        vertical-align: top;\n",
       "    }\n",
       "\n",
       "    .dataframe thead th {\n",
       "        text-align: right;\n",
       "    }\n",
       "</style>\n",
       "<table border=\"1\" class=\"dataframe\">\n",
       "  <thead>\n",
       "    <tr style=\"text-align: right;\">\n",
       "      <th></th>\n",
       "      <th>UniqueID</th>\n",
       "      <th>disbursed_amount</th>\n",
       "      <th>asset_cost</th>\n",
       "      <th>ltv</th>\n",
       "      <th>Aadhar_flag</th>\n",
       "      <th>PAN_flag</th>\n",
       "      <th>VoterID_flag</th>\n",
       "      <th>Driving_flag</th>\n",
       "      <th>Passport_flag</th>\n",
       "      <th>PERFORM_CNS.SCORE</th>\n",
       "      <th>...</th>\n",
       "      <th>loan_default</th>\n",
       "      <th>disb_age</th>\n",
       "      <th>branch_id_risk</th>\n",
       "      <th>supplier_id_risk</th>\n",
       "      <th>manufacturer_id_risk</th>\n",
       "      <th>Current_pincode_ID_risk</th>\n",
       "      <th>State_ID_risk</th>\n",
       "      <th>Employee_code_ID_risk</th>\n",
       "      <th>Employment.Type_Self employed</th>\n",
       "      <th>Employment.Type_Unspecified</th>\n",
       "    </tr>\n",
       "  </thead>\n",
       "  <tbody>\n",
       "    <tr>\n",
       "      <th>0</th>\n",
       "      <td>420825</td>\n",
       "      <td>50578</td>\n",
       "      <td>58400</td>\n",
       "      <td>89.55</td>\n",
       "      <td>1</td>\n",
       "      <td>0</td>\n",
       "      <td>0</td>\n",
       "      <td>0</td>\n",
       "      <td>0</td>\n",
       "      <td>0</td>\n",
       "      <td>...</td>\n",
       "      <td>0</td>\n",
       "      <td>34</td>\n",
       "      <td>0.194032</td>\n",
       "      <td>0.363636</td>\n",
       "      <td>0.228499</td>\n",
       "      <td>0.055556</td>\n",
       "      <td>0.205641</td>\n",
       "      <td>0.37037</td>\n",
       "      <td>0</td>\n",
       "      <td>0</td>\n",
       "    </tr>\n",
       "    <tr>\n",
       "      <th>1</th>\n",
       "      <td>537409</td>\n",
       "      <td>47145</td>\n",
       "      <td>65550</td>\n",
       "      <td>73.23</td>\n",
       "      <td>1</td>\n",
       "      <td>0</td>\n",
       "      <td>0</td>\n",
       "      <td>0</td>\n",
       "      <td>0</td>\n",
       "      <td>598</td>\n",
       "      <td>...</td>\n",
       "      <td>1</td>\n",
       "      <td>33</td>\n",
       "      <td>0.194032</td>\n",
       "      <td>0.363636</td>\n",
       "      <td>0.228499</td>\n",
       "      <td>0.285714</td>\n",
       "      <td>0.205641</td>\n",
       "      <td>0.37037</td>\n",
       "      <td>1</td>\n",
       "      <td>0</td>\n",
       "    </tr>\n",
       "    <tr>\n",
       "      <th>2</th>\n",
       "      <td>417566</td>\n",
       "      <td>53278</td>\n",
       "      <td>61360</td>\n",
       "      <td>89.63</td>\n",
       "      <td>1</td>\n",
       "      <td>0</td>\n",
       "      <td>0</td>\n",
       "      <td>0</td>\n",
       "      <td>0</td>\n",
       "      <td>0</td>\n",
       "      <td>...</td>\n",
       "      <td>0</td>\n",
       "      <td>33</td>\n",
       "      <td>0.194032</td>\n",
       "      <td>0.363636</td>\n",
       "      <td>0.228499</td>\n",
       "      <td>0.234043</td>\n",
       "      <td>0.205641</td>\n",
       "      <td>0.37037</td>\n",
       "      <td>1</td>\n",
       "      <td>0</td>\n",
       "    </tr>\n",
       "    <tr>\n",
       "      <th>3</th>\n",
       "      <td>624493</td>\n",
       "      <td>57513</td>\n",
       "      <td>66113</td>\n",
       "      <td>88.48</td>\n",
       "      <td>1</td>\n",
       "      <td>0</td>\n",
       "      <td>0</td>\n",
       "      <td>0</td>\n",
       "      <td>0</td>\n",
       "      <td>305</td>\n",
       "      <td>...</td>\n",
       "      <td>1</td>\n",
       "      <td>25</td>\n",
       "      <td>0.194032</td>\n",
       "      <td>0.363636</td>\n",
       "      <td>0.228499</td>\n",
       "      <td>0.133333</td>\n",
       "      <td>0.205641</td>\n",
       "      <td>0.37037</td>\n",
       "      <td>1</td>\n",
       "      <td>0</td>\n",
       "    </tr>\n",
       "    <tr>\n",
       "      <th>4</th>\n",
       "      <td>539055</td>\n",
       "      <td>52378</td>\n",
       "      <td>60300</td>\n",
       "      <td>88.39</td>\n",
       "      <td>1</td>\n",
       "      <td>0</td>\n",
       "      <td>0</td>\n",
       "      <td>0</td>\n",
       "      <td>0</td>\n",
       "      <td>0</td>\n",
       "      <td>...</td>\n",
       "      <td>1</td>\n",
       "      <td>41</td>\n",
       "      <td>0.194032</td>\n",
       "      <td>0.363636</td>\n",
       "      <td>0.228499</td>\n",
       "      <td>0.642857</td>\n",
       "      <td>0.205641</td>\n",
       "      <td>0.37037</td>\n",
       "      <td>1</td>\n",
       "      <td>0</td>\n",
       "    </tr>\n",
       "  </tbody>\n",
       "</table>\n",
       "<p>5 rows × 39 columns</p>\n",
       "</div>"
      ],
      "text/plain": [
       "   UniqueID  disbursed_amount  asset_cost    ltv  Aadhar_flag  PAN_flag  \\\n",
       "0    420825             50578       58400  89.55            1         0   \n",
       "1    537409             47145       65550  73.23            1         0   \n",
       "2    417566             53278       61360  89.63            1         0   \n",
       "3    624493             57513       66113  88.48            1         0   \n",
       "4    539055             52378       60300  88.39            1         0   \n",
       "\n",
       "   VoterID_flag  Driving_flag  Passport_flag  PERFORM_CNS.SCORE  ...  \\\n",
       "0             0             0              0                  0  ...   \n",
       "1             0             0              0                598  ...   \n",
       "2             0             0              0                  0  ...   \n",
       "3             0             0              0                305  ...   \n",
       "4             0             0              0                  0  ...   \n",
       "\n",
       "   loan_default  disb_age  branch_id_risk  supplier_id_risk  \\\n",
       "0             0        34        0.194032          0.363636   \n",
       "1             1        33        0.194032          0.363636   \n",
       "2             0        33        0.194032          0.363636   \n",
       "3             1        25        0.194032          0.363636   \n",
       "4             1        41        0.194032          0.363636   \n",
       "\n",
       "   manufacturer_id_risk  Current_pincode_ID_risk  State_ID_risk  \\\n",
       "0              0.228499                 0.055556       0.205641   \n",
       "1              0.228499                 0.285714       0.205641   \n",
       "2              0.228499                 0.234043       0.205641   \n",
       "3              0.228499                 0.133333       0.205641   \n",
       "4              0.228499                 0.642857       0.205641   \n",
       "\n",
       "   Employee_code_ID_risk  Employment.Type_Self employed  \\\n",
       "0                0.37037                              0   \n",
       "1                0.37037                              1   \n",
       "2                0.37037                              1   \n",
       "3                0.37037                              1   \n",
       "4                0.37037                              1   \n",
       "\n",
       "   Employment.Type_Unspecified  \n",
       "0                            0  \n",
       "1                            0  \n",
       "2                            0  \n",
       "3                            0  \n",
       "4                            0  \n",
       "\n",
       "[5 rows x 39 columns]"
      ]
     },
     "execution_count": 135,
     "metadata": {},
     "output_type": "execute_result"
    }
   ],
   "source": [
    "# Print head\n",
    "\n",
    "train.head()"
   ]
  },
  {
   "cell_type": "code",
   "execution_count": 138,
   "metadata": {},
   "outputs": [],
   "source": [
    "# Creating a column for total document counts\n",
    "\n",
    "train['total_docs'] = train.apply(lambda x: x['Aadhar_flag'] + x['PAN_flag'] + x['VoterID_flag'] + x['Driving_flag'] + x['Passport_flag'], axis=1)"
   ]
  },
  {
   "cell_type": "code",
   "execution_count": 140,
   "metadata": {},
   "outputs": [],
   "source": [
    "# Drop individual flag columns\n",
    "\n",
    "flagls = [i for i in train.columns if 'flag' in i.lower()]\n",
    "train.drop(flagls, axis=1, inplace=True)"
   ]
  },
  {
   "cell_type": "code",
   "execution_count": 141,
   "metadata": {},
   "outputs": [
    {
     "data": {
      "text/plain": [
       "Index(['UniqueID', 'disbursed_amount', 'asset_cost', 'ltv',\n",
       "       'PERFORM_CNS.SCORE', 'PRI.NO.OF.ACCTS', 'PRI.ACTIVE.ACCTS',\n",
       "       'PRI.OVERDUE.ACCTS', 'PRI.CURRENT.BALANCE', 'PRI.SANCTIONED.AMOUNT',\n",
       "       'PRI.DISBURSED.AMOUNT', 'SEC.NO.OF.ACCTS', 'SEC.ACTIVE.ACCTS',\n",
       "       'SEC.OVERDUE.ACCTS', 'SEC.CURRENT.BALANCE', 'SEC.SANCTIONED.AMOUNT',\n",
       "       'SEC.DISBURSED.AMOUNT', 'PRIMARY.INSTAL.AMT', 'SEC.INSTAL.AMT',\n",
       "       'NEW.ACCTS.IN.LAST.SIX.MONTHS', 'DELINQUENT.ACCTS.IN.LAST.SIX.MONTHS',\n",
       "       'AVERAGE.ACCT.AGE', 'CREDIT.HISTORY.LENGTH', 'NO.OF_INQUIRIES',\n",
       "       'loan_default', 'disb_age', 'branch_id_risk', 'supplier_id_risk',\n",
       "       'manufacturer_id_risk', 'Current_pincode_ID_risk', 'State_ID_risk',\n",
       "       'Employee_code_ID_risk', 'Employment.Type_Self employed',\n",
       "       'Employment.Type_Unspecified', 'total_docs'],\n",
       "      dtype='object')"
      ]
     },
     "execution_count": 141,
     "metadata": {},
     "output_type": "execute_result"
    }
   ],
   "source": [
    "# Verify columns\n",
    "\n",
    "train.columns"
   ]
  },
  {
   "cell_type": "markdown",
   "metadata": {},
   "source": [
    "## Feature Selection"
   ]
  },
  {
   "cell_type": "code",
   "execution_count": 149,
   "metadata": {},
   "outputs": [
    {
     "data": {
      "image/png": "[encoded data removed]",
      "text/plain": [
       "<Figure size 720x720 with 2 Axes>"
      ]
     },
     "metadata": {
      "needs_background": "light"
     },
     "output_type": "display_data"
    }
   ],
   "source": [
    "# Drop features with multicolinearity\n",
    "\n",
    "fig = plt.figure(figsize=(10, 10))\n",
    "sns.heatmap(train[['disbursed_amount', 'asset_cost', 'ltv', 'PRI.SANCTIONED.AMOUNT', 'PRI.DISBURSED.AMOUNT']].corr(), annot=True)\n",
    "plt.title('Correlation heatmap', fontsize=15, color='blue')\n",
    "plt.show()"
   ]
  },
  {
   "cell_type": "code",
   "execution_count": 151,
   "metadata": {},
   "outputs": [
    {
     "data": {
      "image/png": "[encoded data removed]",
      "text/plain": [
       "<Figure size 720x720 with 2 Axes>"
      ]
     },
     "metadata": {
      "needs_background": "light"
     },
     "output_type": "display_data"
    }
   ],
   "source": [
    "fig = plt.figure(figsize=(10, 10))\n",
    "sns.heatmap(train[['SEC.SANCTIONED.AMOUNT', 'SEC.DISBURSED.AMOUNT']].corr(), annot=True)\n",
    "plt.title('Correlation heatmap', fontsize=15, color='blue')\n",
    "plt.show()"
   ]
  },
  {
   "cell_type": "code",
   "execution_count": 155,
   "metadata": {},
   "outputs": [
    {
     "data": {
      "image/png": "[encoded data removed]",
      "text/plain": [
       "<Figure size 720x720 with 2 Axes>"
      ]
     },
     "metadata": {
      "needs_background": "light"
     },
     "output_type": "display_data"
    }
   ],
   "source": [
    "fig = plt.figure(figsize=(10, 10))\n",
    "sns.heatmap(train[['PRI.NO.OF.ACCTS', 'PRI.ACTIVE.ACCTS', 'PRI.OVERDUE.ACCTS']].corr(), annot=True)\n",
    "plt.title('Correlation heatmap', fontsize=15, color='blue')\n",
    "plt.show()"
   ]
  },
  {
   "cell_type": "markdown",
   "metadata": {},
   "source": [
    "* Will drop Asset cost as disbursed amount has more impact on defaulting. More the disbursed amount, more the risk\n",
    "* WIll drop Sanctioned amount\n",
    "* Will drop primary account and focus on active accounts (Same trend for secondary)"
   ]
  },
  {
   "cell_type": "code",
   "execution_count": 152,
   "metadata": {
    "scrolled": false
   },
   "outputs": [
    {
     "data": {
      "image/png": "[encoded data removed]",
      "text/plain": [
       "<Figure size 720x720 with 2 Axes>"
      ]
     },
     "metadata": {
      "needs_background": "light"
     },
     "output_type": "display_data"
    }
   ],
   "source": [
    "fig = plt.figure(figsize=(10, 10))\n",
    "sns.heatmap(train[['CREDIT.HISTORY.LENGTH', 'NO.OF_INQUIRIES', 'PERFORM_CNS.SCORE']].corr(), annot=True)\n",
    "plt.title('Correlation heatmap', fontsize=15, color='blue')\n",
    "plt.show()"
   ]
  },
  {
   "cell_type": "code",
   "execution_count": 156,
   "metadata": {},
   "outputs": [],
   "source": [
    "# Dropping columns\n",
    "\n",
    "train.drop(['asset_cost', 'PRI.NO.OF.ACCTS', 'SEC.NO.OF.ACCTS', \n",
    "            'PRI.SANCTIONED.AMOUNT', 'SEC.SANCTIONED.AMOUNT'], axis=1, inplace=True)"
   ]
  },
  {
   "cell_type": "code",
   "execution_count": 159,
   "metadata": {},
   "outputs": [
    {
     "data": {
      "text/plain": [
       "Index(['UniqueID', 'disbursed_amount', 'ltv', 'PERFORM_CNS.SCORE',\n",
       "       'PRI.ACTIVE.ACCTS', 'PRI.OVERDUE.ACCTS', 'PRI.CURRENT.BALANCE',\n",
       "       'PRI.DISBURSED.AMOUNT', 'SEC.ACTIVE.ACCTS', 'SEC.OVERDUE.ACCTS',\n",
       "       'SEC.CURRENT.BALANCE', 'SEC.DISBURSED.AMOUNT', 'PRIMARY.INSTAL.AMT',\n",
       "       'SEC.INSTAL.AMT', 'NEW.ACCTS.IN.LAST.SIX.MONTHS',\n",
       "       'DELINQUENT.ACCTS.IN.LAST.SIX.MONTHS', 'AVERAGE.ACCT.AGE',\n",
       "       'CREDIT.HISTORY.LENGTH', 'NO.OF_INQUIRIES', 'loan_default', 'disb_age',\n",
       "       'branch_id_risk', 'supplier_id_risk', 'manufacturer_id_risk',\n",
       "       'Current_pincode_ID_risk', 'State_ID_risk', 'Employee_code_ID_risk',\n",
       "       'Employment.Type_Self employed', 'Employment.Type_Unspecified',\n",
       "       'total_docs'],\n",
       "      dtype='object')"
      ]
     },
     "execution_count": 159,
     "metadata": {},
     "output_type": "execute_result"
    }
   ],
   "source": [
    "# Verify columns\n",
    "\n",
    "train.columns"
   ]
  },
  {
   "cell_type": "code",
   "execution_count": 168,
   "metadata": {},
   "outputs": [],
   "source": [
    "# Create X and y\n",
    "\n",
    "X = train.drop(['UniqueID', 'loan_default'], axis=1)\n",
    "y = train['loan_default']"
   ]
  },
  {
   "cell_type": "code",
   "execution_count": 187,
   "metadata": {},
   "outputs": [],
   "source": [
    "# Use RFE for feature selection\n",
    "\n",
    "logr = LogisticRegression()\n",
    "rfe = RFE(logr, 15)"
   ]
  },
  {
   "cell_type": "code",
   "execution_count": 188,
   "metadata": {},
   "outputs": [
    {
     "name": "stderr",
     "output_type": "stream",
     "text": [
      "/home/sagar/anaconda2/envs/py36/lib/python3.6/site-packages/sklearn/linear_model/logistic.py:432: FutureWarning: Default solver will be changed to 'lbfgs' in 0.22. Specify a solver to silence this warning.\n",
      "  FutureWarning)\n",
      "/home/sagar/anaconda2/envs/py36/lib/python3.6/site-packages/sklearn/linear_model/logistic.py:432: FutureWarning: Default solver will be changed to 'lbfgs' in 0.22. Specify a solver to silence this warning.\n",
      "  FutureWarning)\n",
      "/home/sagar/anaconda2/envs/py36/lib/python3.6/site-packages/sklearn/linear_model/logistic.py:432: FutureWarning: Default solver will be changed to 'lbfgs' in 0.22. Specify a solver to silence this warning.\n",
      "  FutureWarning)\n",
      "/home/sagar/anaconda2/envs/py36/lib/python3.6/site-packages/sklearn/linear_model/logistic.py:432: FutureWarning: Default solver will be changed to 'lbfgs' in 0.22. Specify a solver to silence this warning.\n",
      "  FutureWarning)\n",
      "/home/sagar/anaconda2/envs/py36/lib/python3.6/site-packages/sklearn/linear_model/logistic.py:432: FutureWarning: Default solver will be changed to 'lbfgs' in 0.22. Specify a solver to silence this warning.\n",
      "  FutureWarning)\n",
      "/home/sagar/anaconda2/envs/py36/lib/python3.6/site-packages/sklearn/linear_model/logistic.py:432: FutureWarning: Default solver will be changed to 'lbfgs' in 0.22. Specify a solver to silence this warning.\n",
      "  FutureWarning)\n",
      "/home/sagar/anaconda2/envs/py36/lib/python3.6/site-packages/sklearn/linear_model/logistic.py:432: FutureWarning: Default solver will be changed to 'lbfgs' in 0.22. Specify a solver to silence this warning.\n",
      "  FutureWarning)\n",
      "/home/sagar/anaconda2/envs/py36/lib/python3.6/site-packages/sklearn/linear_model/logistic.py:432: FutureWarning: Default solver will be changed to 'lbfgs' in 0.22. Specify a solver to silence this warning.\n",
      "  FutureWarning)\n",
      "/home/sagar/anaconda2/envs/py36/lib/python3.6/site-packages/sklearn/linear_model/logistic.py:432: FutureWarning: Default solver will be changed to 'lbfgs' in 0.22. Specify a solver to silence this warning.\n",
      "  FutureWarning)\n",
      "/home/sagar/anaconda2/envs/py36/lib/python3.6/site-packages/sklearn/linear_model/logistic.py:432: FutureWarning: Default solver will be changed to 'lbfgs' in 0.22. Specify a solver to silence this warning.\n",
      "  FutureWarning)\n",
      "/home/sagar/anaconda2/envs/py36/lib/python3.6/site-packages/sklearn/linear_model/logistic.py:432: FutureWarning: Default solver will be changed to 'lbfgs' in 0.22. Specify a solver to silence this warning.\n",
      "  FutureWarning)\n",
      "/home/sagar/anaconda2/envs/py36/lib/python3.6/site-packages/sklearn/linear_model/logistic.py:432: FutureWarning: Default solver will be changed to 'lbfgs' in 0.22. Specify a solver to silence this warning.\n",
      "  FutureWarning)\n",
      "/home/sagar/anaconda2/envs/py36/lib/python3.6/site-packages/sklearn/linear_model/logistic.py:432: FutureWarning: Default solver will be changed to 'lbfgs' in 0.22. Specify a solver to silence this warning.\n",
      "  FutureWarning)\n",
      "/home/sagar/anaconda2/envs/py36/lib/python3.6/site-packages/sklearn/linear_model/logistic.py:432: FutureWarning: Default solver will be changed to 'lbfgs' in 0.22. Specify a solver to silence this warning.\n",
      "  FutureWarning)\n"
     ]
    },
    {
     "data": {
      "text/plain": [
       "RFE(estimator=LogisticRegression(C=1.0, class_weight=None, dual=False,\n",
       "                                 fit_intercept=True, intercept_scaling=1,\n",
       "                                 l1_ratio=None, max_iter=100,\n",
       "                                 multi_class='warn', n_jobs=None, penalty='l2',\n",
       "                                 random_state=None, solver='warn', tol=0.0001,\n",
       "                                 verbose=0, warm_start=False),\n",
       "    n_features_to_select=15, step=1, verbose=0)"
      ]
     },
     "execution_count": 188,
     "metadata": {},
     "output_type": "execute_result"
    }
   ],
   "source": [
    "rfe.fit(X, y)"
   ]
  },
  {
   "cell_type": "code",
   "execution_count": 189,
   "metadata": {},
   "outputs": [
    {
     "name": "stdout",
     "output_type": "stream",
     "text": [
      "False 8 disbursed_amount\n",
      "False 3 ltv\n",
      "False 7 PERFORM_CNS.SCORE\n",
      "True 1 PRI.ACTIVE.ACCTS\n",
      "True 1 PRI.OVERDUE.ACCTS\n",
      "False 10 PRI.CURRENT.BALANCE\n",
      "False 13 PRI.DISBURSED.AMOUNT\n",
      "True 1 SEC.ACTIVE.ACCTS\n",
      "False 2 SEC.OVERDUE.ACCTS\n",
      "False 14 SEC.CURRENT.BALANCE\n",
      "False 9 SEC.DISBURSED.AMOUNT\n",
      "False 11 PRIMARY.INSTAL.AMT\n",
      "False 12 SEC.INSTAL.AMT\n",
      "True 1 NEW.ACCTS.IN.LAST.SIX.MONTHS\n",
      "True 1 DELINQUENT.ACCTS.IN.LAST.SIX.MONTHS\n",
      "False 6 AVERAGE.ACCT.AGE\n",
      "False 5 CREDIT.HISTORY.LENGTH\n",
      "True 1 NO.OF_INQUIRIES\n",
      "False 4 disb_age\n",
      "True 1 branch_id_risk\n",
      "True 1 supplier_id_risk\n",
      "True 1 manufacturer_id_risk\n",
      "True 1 Current_pincode_ID_risk\n",
      "True 1 State_ID_risk\n",
      "True 1 Employee_code_ID_risk\n",
      "True 1 Employment.Type_Self employed\n",
      "True 1 Employment.Type_Unspecified\n",
      "True 1 total_docs\n"
     ]
    }
   ],
   "source": [
    "sel_cols = []\n",
    "for a, b, c in zip(rfe.support_, rfe.ranking_, X.columns):\n",
    "    print(a, b, c)\n",
    "    if b == 1:\n",
    "        sel_cols.append(c)"
   ]
  },
  {
   "cell_type": "code",
   "execution_count": 190,
   "metadata": {},
   "outputs": [
    {
     "name": "stdout",
     "output_type": "stream",
     "text": [
      "['PRI.ACTIVE.ACCTS', 'PRI.OVERDUE.ACCTS', 'SEC.ACTIVE.ACCTS', 'NEW.ACCTS.IN.LAST.SIX.MONTHS', 'DELINQUENT.ACCTS.IN.LAST.SIX.MONTHS', 'NO.OF_INQUIRIES', 'branch_id_risk', 'supplier_id_risk', 'manufacturer_id_risk', 'Current_pincode_ID_risk', 'State_ID_risk', 'Employee_code_ID_risk', 'Employment.Type_Self employed', 'Employment.Type_Unspecified', 'total_docs']\n"
     ]
    }
   ],
   "source": [
    "print(sel_cols)"
   ]
  },
  {
   "cell_type": "code",
   "execution_count": 191,
   "metadata": {},
   "outputs": [],
   "source": [
    "# Creating new DF of X\n",
    "\n",
    "X_sel = X[sel_cols]"
   ]
  },
  {
   "cell_type": "markdown",
   "metadata": {},
   "source": [
    "## Preparing baseline model"
   ]
  },
  {
   "cell_type": "code",
   "execution_count": 192,
   "metadata": {},
   "outputs": [],
   "source": [
    "# Split data in to train and test\n",
    "\n",
    "X_train, X_test, y_train, y_test = train_test_split(X_sel, y, train_size=0.7, random_state=7)"
   ]
  },
  {
   "cell_type": "code",
   "execution_count": 193,
   "metadata": {},
   "outputs": [
    {
     "name": "stderr",
     "output_type": "stream",
     "text": [
      "/home/sagar/anaconda2/envs/py36/lib/python3.6/site-packages/sklearn/linear_model/logistic.py:432: FutureWarning: Default solver will be changed to 'lbfgs' in 0.22. Specify a solver to silence this warning.\n",
      "  FutureWarning)\n"
     ]
    },
    {
     "data": {
      "text/plain": [
       "LogisticRegression(C=1.0, class_weight=None, dual=False, fit_intercept=True,\n",
       "                   intercept_scaling=1, l1_ratio=None, max_iter=100,\n",
       "                   multi_class='warn', n_jobs=None, penalty='l2',\n",
       "                   random_state=None, solver='warn', tol=0.0001, verbose=0,\n",
       "                   warm_start=False)"
      ]
     },
     "execution_count": 193,
     "metadata": {},
     "output_type": "execute_result"
    }
   ],
   "source": [
    "logr.fit(X_train, y_train)"
   ]
  },
  {
   "cell_type": "code",
   "execution_count": 194,
   "metadata": {},
   "outputs": [],
   "source": [
    "y_pred = logr.predict(X_test)"
   ]
  },
  {
   "cell_type": "code",
   "execution_count": 196,
   "metadata": {},
   "outputs": [
    {
     "name": "stdout",
     "output_type": "stream",
     "text": [
      "0.7862381517434629\n"
     ]
    }
   ],
   "source": [
    "print(accuracy_score(y_test, y_pred))"
   ]
  },
  {
   "cell_type": "code",
   "execution_count": 197,
   "metadata": {},
   "outputs": [
    {
     "name": "stdout",
     "output_type": "stream",
     "text": [
      "              precision    recall  f1-score   support\n",
      "\n",
      "           0       0.79      0.98      0.88     54695\n",
      "           1       0.56      0.09      0.15     15252\n",
      "\n",
      "    accuracy                           0.79     69947\n",
      "   macro avg       0.68      0.53      0.51     69947\n",
      "weighted avg       0.74      0.79      0.72     69947\n",
      "\n"
     ]
    }
   ],
   "source": [
    "print(classification_report(y_test, y_pred))"
   ]
  },
  {
   "cell_type": "code",
   "execution_count": 199,
   "metadata": {},
   "outputs": [],
   "source": [
    "# Attempt using RF\n",
    "\n",
    "rf = RandomForestClassifier()"
   ]
  },
  {
   "cell_type": "code",
   "execution_count": 200,
   "metadata": {},
   "outputs": [
    {
     "name": "stderr",
     "output_type": "stream",
     "text": [
      "/home/sagar/anaconda2/envs/py36/lib/python3.6/site-packages/sklearn/ensemble/forest.py:245: FutureWarning: The default value of n_estimators will change from 10 in version 0.20 to 100 in 0.22.\n",
      "  \"10 in version 0.20 to 100 in 0.22.\", FutureWarning)\n"
     ]
    },
    {
     "data": {
      "text/plain": [
       "RandomForestClassifier(bootstrap=True, class_weight=None, criterion='gini',\n",
       "                       max_depth=None, max_features='auto', max_leaf_nodes=None,\n",
       "                       min_impurity_decrease=0.0, min_impurity_split=None,\n",
       "                       min_samples_leaf=1, min_samples_split=2,\n",
       "                       min_weight_fraction_leaf=0.0, n_estimators=10,\n",
       "                       n_jobs=None, oob_score=False, random_state=None,\n",
       "                       verbose=0, warm_start=False)"
      ]
     },
     "execution_count": 200,
     "metadata": {},
     "output_type": "execute_result"
    }
   ],
   "source": [
    "rf.fit(X_train, y_train)"
   ]
  },
  {
   "cell_type": "code",
   "execution_count": 201,
   "metadata": {},
   "outputs": [],
   "source": [
    "y_pred_rf = rf.predict(X_test)"
   ]
  },
  {
   "cell_type": "code",
   "execution_count": 202,
   "metadata": {},
   "outputs": [
    {
     "name": "stdout",
     "output_type": "stream",
     "text": [
      "0.7500965016369537\n"
     ]
    }
   ],
   "source": [
    "print(accuracy_score(y_test, y_pred_rf))"
   ]
  },
  {
   "cell_type": "code",
   "execution_count": 203,
   "metadata": {},
   "outputs": [
    {
     "name": "stdout",
     "output_type": "stream",
     "text": [
      "              precision    recall  f1-score   support\n",
      "\n",
      "           0       0.80      0.91      0.85     54695\n",
      "           1       0.34      0.16      0.22     15252\n",
      "\n",
      "    accuracy                           0.75     69947\n",
      "   macro avg       0.57      0.54      0.54     69947\n",
      "weighted avg       0.70      0.75      0.71     69947\n",
      "\n"
     ]
    }
   ],
   "source": [
    "print(classification_report(y_test, y_pred_rf))"
   ]
  }
 ],
 "metadata": {
  "kernelspec": {
   "display_name": "Python 3",
   "language": "python",
   "name": "python3"
  },
  "language_info": {
   "codemirror_mode": {
    "name": "ipython",
    "version": 3
   },
   "file_extension": ".py",
   "mimetype": "text/x-python",
   "name": "python",
   "nbconvert_exporter": "python",
   "pygments_lexer": "ipython3",
   "version": "3.7.3"
  }
 },
 "nbformat": 4,
 "nbformat_minor": 2
}
